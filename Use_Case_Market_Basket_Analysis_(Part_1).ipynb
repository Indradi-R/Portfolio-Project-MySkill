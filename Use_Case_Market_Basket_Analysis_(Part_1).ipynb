{
  "cells": [
    {
      "cell_type": "markdown",
      "id": "c98e0752",
      "metadata": {
        "id": "c98e0752"
      },
      "source": [
        "# Impor packages"
      ]
    },
    {
      "cell_type": "code",
      "execution_count": null,
      "id": "9e69ab8b",
      "metadata": {
        "ExecuteTime": {
          "end_time": "2022-10-09T09:26:37.053251Z",
          "start_time": "2022-10-09T09:26:33.994854Z"
        },
        "execution": {
          "iopub.execute_input": "2022-10-31T01:19:33.371766Z",
          "iopub.status.busy": "2022-10-31T01:19:33.371331Z",
          "iopub.status.idle": "2022-10-31T01:19:35.757797Z",
          "shell.execute_reply": "2022-10-31T01:19:35.756891Z",
          "shell.execute_reply.started": "2022-10-31T01:19:33.371700Z"
        },
        "tags": [],
        "id": "9e69ab8b"
      },
      "outputs": [],
      "source": [
        "import pandas as pd\n",
        "import numpy as np\n",
        "import datetime as dt"
      ]
    },
    {
      "cell_type": "code",
      "execution_count": null,
      "id": "13eca110",
      "metadata": {
        "ExecuteTime": {
          "end_time": "2022-10-09T09:31:34.277420Z",
          "start_time": "2022-10-09T09:31:34.262791Z"
        },
        "execution": {
          "iopub.execute_input": "2022-10-31T01:19:35.760126Z",
          "iopub.status.busy": "2022-10-31T01:19:35.759790Z",
          "iopub.status.idle": "2022-10-31T01:19:35.774685Z",
          "shell.execute_reply": "2022-10-31T01:19:35.772893Z",
          "shell.execute_reply.started": "2022-10-31T01:19:35.760085Z"
        },
        "tags": [],
        "id": "13eca110",
        "outputId": "dd31b3be-2a02-40cb-8a92-7d9c3cb79485",
        "colab": {
          "base_uri": "https://localhost:8080/",
          "height": 35
        }
      },
      "outputs": [
        {
          "output_type": "execute_result",
          "data": {
            "text/plain": [
              "'/content'"
            ],
            "application/vnd.google.colaboratory.intrinsic+json": {
              "type": "string"
            }
          },
          "metadata": {},
          "execution_count": 2
        }
      ],
      "source": [
        "import os\n",
        "os.getcwd()"
      ]
    },
    {
      "cell_type": "markdown",
      "id": "e8ab0dc7-7a11-4ce0-86c0-0905142c44ae",
      "metadata": {
        "id": "e8ab0dc7-7a11-4ce0-86c0-0905142c44ae"
      },
      "source": [
        "# Impor data dari CSV ke DataFrame"
      ]
    },
    {
      "cell_type": "code",
      "source": [
        "from google.colab import drive\n",
        "drive.mount('/content/drive')"
      ],
      "metadata": {
        "id": "INmk41PP3YDm",
        "colab": {
          "base_uri": "https://localhost:8080/",
          "height": 304
        },
        "outputId": "229add42-df01-48c0-8a34-ecb4a2513eaa"
      },
      "id": "INmk41PP3YDm",
      "execution_count": null,
      "outputs": [
        {
          "output_type": "error",
          "ename": "MessageError",
          "evalue": "Error: credential propagation was unsuccessful",
          "traceback": [
            "\u001b[0;31m---------------------------------------------------------------------------\u001b[0m",
            "\u001b[0;31mMessageError\u001b[0m                              Traceback (most recent call last)",
            "\u001b[0;32m<ipython-input-3-d5df0069828e>\u001b[0m in \u001b[0;36m<cell line: 2>\u001b[0;34m()\u001b[0m\n\u001b[1;32m      1\u001b[0m \u001b[0;32mfrom\u001b[0m \u001b[0mgoogle\u001b[0m\u001b[0;34m.\u001b[0m\u001b[0mcolab\u001b[0m \u001b[0;32mimport\u001b[0m \u001b[0mdrive\u001b[0m\u001b[0;34m\u001b[0m\u001b[0;34m\u001b[0m\u001b[0m\n\u001b[0;32m----> 2\u001b[0;31m \u001b[0mdrive\u001b[0m\u001b[0;34m.\u001b[0m\u001b[0mmount\u001b[0m\u001b[0;34m(\u001b[0m\u001b[0;34m'/content/drive'\u001b[0m\u001b[0;34m)\u001b[0m\u001b[0;34m\u001b[0m\u001b[0;34m\u001b[0m\u001b[0m\n\u001b[0m",
            "\u001b[0;32m/usr/local/lib/python3.10/dist-packages/google/colab/drive.py\u001b[0m in \u001b[0;36mmount\u001b[0;34m(mountpoint, force_remount, timeout_ms, readonly)\u001b[0m\n\u001b[1;32m     98\u001b[0m \u001b[0;32mdef\u001b[0m \u001b[0mmount\u001b[0m\u001b[0;34m(\u001b[0m\u001b[0mmountpoint\u001b[0m\u001b[0;34m,\u001b[0m \u001b[0mforce_remount\u001b[0m\u001b[0;34m=\u001b[0m\u001b[0;32mFalse\u001b[0m\u001b[0;34m,\u001b[0m \u001b[0mtimeout_ms\u001b[0m\u001b[0;34m=\u001b[0m\u001b[0;36m120000\u001b[0m\u001b[0;34m,\u001b[0m \u001b[0mreadonly\u001b[0m\u001b[0;34m=\u001b[0m\u001b[0;32mFalse\u001b[0m\u001b[0;34m)\u001b[0m\u001b[0;34m:\u001b[0m\u001b[0;34m\u001b[0m\u001b[0;34m\u001b[0m\u001b[0m\n\u001b[1;32m     99\u001b[0m   \u001b[0;34m\"\"\"Mount your Google Drive at the specified mountpoint path.\"\"\"\u001b[0m\u001b[0;34m\u001b[0m\u001b[0;34m\u001b[0m\u001b[0m\n\u001b[0;32m--> 100\u001b[0;31m   return _mount(\n\u001b[0m\u001b[1;32m    101\u001b[0m       \u001b[0mmountpoint\u001b[0m\u001b[0;34m,\u001b[0m\u001b[0;34m\u001b[0m\u001b[0;34m\u001b[0m\u001b[0m\n\u001b[1;32m    102\u001b[0m       \u001b[0mforce_remount\u001b[0m\u001b[0;34m=\u001b[0m\u001b[0mforce_remount\u001b[0m\u001b[0;34m,\u001b[0m\u001b[0;34m\u001b[0m\u001b[0;34m\u001b[0m\u001b[0m\n",
            "\u001b[0;32m/usr/local/lib/python3.10/dist-packages/google/colab/drive.py\u001b[0m in \u001b[0;36m_mount\u001b[0;34m(mountpoint, force_remount, timeout_ms, ephemeral, readonly)\u001b[0m\n\u001b[1;32m    135\u001b[0m   )\n\u001b[1;32m    136\u001b[0m   \u001b[0;32mif\u001b[0m \u001b[0mephemeral\u001b[0m\u001b[0;34m:\u001b[0m\u001b[0;34m\u001b[0m\u001b[0;34m\u001b[0m\u001b[0m\n\u001b[0;32m--> 137\u001b[0;31m     _message.blocking_request(\n\u001b[0m\u001b[1;32m    138\u001b[0m         \u001b[0;34m'request_auth'\u001b[0m\u001b[0;34m,\u001b[0m\u001b[0;34m\u001b[0m\u001b[0;34m\u001b[0m\u001b[0m\n\u001b[1;32m    139\u001b[0m         \u001b[0mrequest\u001b[0m\u001b[0;34m=\u001b[0m\u001b[0;34m{\u001b[0m\u001b[0;34m'authType'\u001b[0m\u001b[0;34m:\u001b[0m \u001b[0;34m'dfs_ephemeral'\u001b[0m\u001b[0;34m}\u001b[0m\u001b[0;34m,\u001b[0m\u001b[0;34m\u001b[0m\u001b[0;34m\u001b[0m\u001b[0m\n",
            "\u001b[0;32m/usr/local/lib/python3.10/dist-packages/google/colab/_message.py\u001b[0m in \u001b[0;36mblocking_request\u001b[0;34m(request_type, request, timeout_sec, parent)\u001b[0m\n\u001b[1;32m    174\u001b[0m       \u001b[0mrequest_type\u001b[0m\u001b[0;34m,\u001b[0m \u001b[0mrequest\u001b[0m\u001b[0;34m,\u001b[0m \u001b[0mparent\u001b[0m\u001b[0;34m=\u001b[0m\u001b[0mparent\u001b[0m\u001b[0;34m,\u001b[0m \u001b[0mexpect_reply\u001b[0m\u001b[0;34m=\u001b[0m\u001b[0;32mTrue\u001b[0m\u001b[0;34m\u001b[0m\u001b[0;34m\u001b[0m\u001b[0m\n\u001b[1;32m    175\u001b[0m   )\n\u001b[0;32m--> 176\u001b[0;31m   \u001b[0;32mreturn\u001b[0m \u001b[0mread_reply_from_input\u001b[0m\u001b[0;34m(\u001b[0m\u001b[0mrequest_id\u001b[0m\u001b[0;34m,\u001b[0m \u001b[0mtimeout_sec\u001b[0m\u001b[0;34m)\u001b[0m\u001b[0;34m\u001b[0m\u001b[0;34m\u001b[0m\u001b[0m\n\u001b[0m",
            "\u001b[0;32m/usr/local/lib/python3.10/dist-packages/google/colab/_message.py\u001b[0m in \u001b[0;36mread_reply_from_input\u001b[0;34m(message_id, timeout_sec)\u001b[0m\n\u001b[1;32m    101\u001b[0m     ):\n\u001b[1;32m    102\u001b[0m       \u001b[0;32mif\u001b[0m \u001b[0;34m'error'\u001b[0m \u001b[0;32min\u001b[0m \u001b[0mreply\u001b[0m\u001b[0;34m:\u001b[0m\u001b[0;34m\u001b[0m\u001b[0;34m\u001b[0m\u001b[0m\n\u001b[0;32m--> 103\u001b[0;31m         \u001b[0;32mraise\u001b[0m \u001b[0mMessageError\u001b[0m\u001b[0;34m(\u001b[0m\u001b[0mreply\u001b[0m\u001b[0;34m[\u001b[0m\u001b[0;34m'error'\u001b[0m\u001b[0;34m]\u001b[0m\u001b[0;34m)\u001b[0m\u001b[0;34m\u001b[0m\u001b[0;34m\u001b[0m\u001b[0m\n\u001b[0m\u001b[1;32m    104\u001b[0m       \u001b[0;32mreturn\u001b[0m \u001b[0mreply\u001b[0m\u001b[0;34m.\u001b[0m\u001b[0mget\u001b[0m\u001b[0;34m(\u001b[0m\u001b[0;34m'data'\u001b[0m\u001b[0;34m,\u001b[0m \u001b[0;32mNone\u001b[0m\u001b[0;34m)\u001b[0m\u001b[0;34m\u001b[0m\u001b[0;34m\u001b[0m\u001b[0m\n\u001b[1;32m    105\u001b[0m \u001b[0;34m\u001b[0m\u001b[0m\n",
            "\u001b[0;31mMessageError\u001b[0m: Error: credential propagation was unsuccessful"
          ]
        }
      ]
    },
    {
      "cell_type": "code",
      "execution_count": null,
      "id": "9c7563ab-df4d-4ee4-a04b-39cb5dfecac6",
      "metadata": {
        "execution": {
          "iopub.execute_input": "2022-10-31T01:19:36.247503Z",
          "iopub.status.busy": "2022-10-31T01:19:36.247211Z",
          "iopub.status.idle": "2022-10-31T01:19:36.746359Z",
          "shell.execute_reply": "2022-10-31T01:19:36.745577Z",
          "shell.execute_reply.started": "2022-10-31T01:19:36.247473Z"
        },
        "tags": [],
        "id": "9c7563ab-df4d-4ee4-a04b-39cb5dfecac6"
      },
      "outputs": [],
      "source": [
        "df = pd.read_csv('/content/drive/MyDrive/myskill/Salinan Salinan Salinan Online Retail Data.csv', header=0)\n",
        "df"
      ]
    },
    {
      "cell_type": "code",
      "execution_count": null,
      "id": "5fb280d8-d333-48c9-af2d-ed4036d7d143",
      "metadata": {
        "execution": {
          "iopub.execute_input": "2022-10-31T01:19:36.904282Z",
          "iopub.status.busy": "2022-10-31T01:19:36.903984Z",
          "iopub.status.idle": "2022-10-31T01:19:37.169621Z",
          "shell.execute_reply": "2022-10-31T01:19:37.168347Z",
          "shell.execute_reply.started": "2022-10-31T01:19:36.904254Z"
        },
        "tags": [],
        "id": "5fb280d8-d333-48c9-af2d-ed4036d7d143"
      },
      "outputs": [],
      "source": [
        "df.info()"
      ]
    },
    {
      "cell_type": "markdown",
      "id": "bcb2db12-45f4-4394-9105-ae7eff18f8c7",
      "metadata": {
        "id": "bcb2db12-45f4-4394-9105-ae7eff18f8c7"
      },
      "source": [
        "# Data cleansing"
      ]
    },
    {
      "cell_type": "code",
      "execution_count": null,
      "id": "3741ccdd-9a53-4f03-95cb-32c09495a815",
      "metadata": {
        "execution": {
          "iopub.execute_input": "2022-10-31T01:25:24.378702Z",
          "iopub.status.busy": "2022-10-31T01:25:24.377916Z",
          "iopub.status.idle": "2022-10-31T01:25:26.210020Z",
          "shell.execute_reply": "2022-10-31T01:25:26.209395Z",
          "shell.execute_reply.started": "2022-10-31T01:25:24.378672Z"
        },
        "tags": [],
        "id": "3741ccdd-9a53-4f03-95cb-32c09495a815"
      },
      "outputs": [],
      "source": [
        "df_clean = df.copy()\n",
        "# membuat kolom date\n",
        "df_clean['date'] = pd.to_datetime(df_clean['order_date']).dt.date.astype('datetime64')\n",
        "# menghapus semua baris tanpa customer_id\n",
        "df_clean = df_clean[~df_clean['customer_id'].isna()]\n",
        "# mengkonversi customer_id menjadi string\n",
        "df_clean['customer_id'] = df_clean['customer_id'].astype(str)\n",
        "# menghapus semua baris tanpa product_name\n",
        "df_clean = df_clean[~df_clean['product_name'].isna()]\n",
        "# membuat semua product_name berhuruf kecil\n",
        "df_clean['product_name'] = df_clean['product_name'].str.lower()\n",
        "# menghapus semua baris dengan product_code atau product_name test\n",
        "df_clean = df_clean[(~df_clean['product_code'].str.lower().str.contains('test')) |\n",
        "                    (~df_clean['product_name'].str.contains('test '))]\n",
        "# menghapus baris dengan status cancelled, yaitu yang order_id-nya diawali 'C'\n",
        "df_clean = df_clean[df_clean['order_id'].str[:1]!='C']\n",
        "# mengubah nilai quantity yang negatif menjadi positif karena nilai negatif tersebut hanya menandakan order tersebut cancelled\n",
        "df_clean['quantity'] = df_clean['quantity'].abs()\n",
        "# menghapus baris dengan price bernilai negatif\n",
        "df_clean = df_clean[df_clean['price']>0]\n",
        "# membuat nilai amount, yaitu perkalian antara quantity dan price\n",
        "df_clean['amount'] = df_clean['quantity'] * df_clean['price']\n",
        "# mengganti product_name dari product_code yang memiliki beberapa product_name dengan salah satu product_name-nya yang paling sering muncul\n",
        "most_freq_product_name = df_clean.groupby(['product_code','product_name'], as_index=False).agg(order_cnt=('order_id','nunique')).sort_values(['product_code','order_cnt'], ascending=[True,False])\n",
        "most_freq_product_name['rank'] = most_freq_product_name.groupby('product_code')['order_cnt'].rank(method='first', ascending=False)\n",
        "most_freq_product_name = most_freq_product_name[most_freq_product_name['rank']==1].drop(columns=['order_cnt','rank'])\n",
        "df_clean = df_clean.merge(most_freq_product_name.rename(columns={'product_name':'most_freq_product_name'}), how='left', on='product_code')\n",
        "df_clean['product_name'] = df_clean['most_freq_product_name']\n",
        "df_clean = df_clean.drop(columns='most_freq_product_name')\n",
        "# menghapus outlier\n",
        "from scipy import stats\n",
        "df_clean = df_clean[(np.abs(stats.zscore(df_clean[['quantity','amount']]))<3).all(axis=1)]\n",
        "df_clean = df_clean.reset_index(drop=True)\n",
        "df_clean"
      ]
    },
    {
      "cell_type": "code",
      "execution_count": null,
      "id": "cfa2c33e-ec2b-44c9-ac3b-591c9b689c8f",
      "metadata": {
        "execution": {
          "iopub.execute_input": "2022-10-31T01:25:26.212534Z",
          "iopub.status.busy": "2022-10-31T01:25:26.212176Z",
          "iopub.status.idle": "2022-10-31T01:25:26.463789Z",
          "shell.execute_reply": "2022-10-31T01:25:26.462960Z",
          "shell.execute_reply.started": "2022-10-31T01:25:26.212505Z"
        },
        "tags": [],
        "id": "cfa2c33e-ec2b-44c9-ac3b-591c9b689c8f"
      },
      "outputs": [],
      "source": [
        "df_clean.info()"
      ]
    },
    {
      "cell_type": "markdown",
      "id": "71cc4605-87bd-45ed-b397-7ab6f71285f0",
      "metadata": {
        "tags": [],
        "id": "71cc4605-87bd-45ed-b397-7ab6f71285f0"
      },
      "source": [
        "# Menyiapkan data basket"
      ]
    },
    {
      "cell_type": "markdown",
      "id": "9c88465a-b9fc-4d64-95b9-82da29e38d9d",
      "metadata": {
        "id": "9c88465a-b9fc-4d64-95b9-82da29e38d9d"
      },
      "source": [
        "## Buat DataFrame basket"
      ]
    },
    {
      "cell_type": "code",
      "execution_count": null,
      "id": "5575e347-bd83-438b-8952-17f35c8b1406",
      "metadata": {
        "execution": {
          "iopub.execute_input": "2022-10-31T02:31:23.582145Z",
          "iopub.status.busy": "2022-10-31T02:31:23.580710Z",
          "iopub.status.idle": "2022-10-31T02:31:28.818063Z",
          "shell.execute_reply": "2022-10-31T02:31:28.816724Z",
          "shell.execute_reply.started": "2022-10-31T02:31:23.581860Z"
        },
        "tags": [],
        "id": "5575e347-bd83-438b-8952-17f35c8b1406"
      },
      "outputs": [],
      "source": [
        "basket = pd.pivot_table(df_clean, index='order_id', columns='product_name', values='product_code', aggfunc='nunique', fill_value=0)\n",
        "basket"
      ]
    },
    {
      "cell_type": "code",
      "execution_count": null,
      "id": "8ba156e5-2b8c-4085-91b0-494c43cc7fe3",
      "metadata": {
        "execution": {
          "iopub.execute_input": "2022-10-31T02:31:28.820925Z",
          "iopub.status.busy": "2022-10-31T02:31:28.820690Z",
          "iopub.status.idle": "2022-10-31T02:31:29.005958Z",
          "shell.execute_reply": "2022-10-31T02:31:29.005264Z",
          "shell.execute_reply.started": "2022-10-31T02:31:28.820903Z"
        },
        "id": "8ba156e5-2b8c-4085-91b0-494c43cc7fe3"
      },
      "outputs": [],
      "source": [
        "basket.info()"
      ]
    },
    {
      "cell_type": "markdown",
      "id": "06eaf0e9-59de-4b74-8209-4a9faa042fe0",
      "metadata": {
        "id": "06eaf0e9-59de-4b74-8209-4a9faa042fe0"
      },
      "source": [
        "## Encode DataFrame basket dengan nilai True untuk semua nilai di atas 0 dan False untuk semua nilai 0"
      ]
    },
    {
      "cell_type": "code",
      "execution_count": null,
      "id": "d0e532c6-adb1-490f-9216-7062134ccfe4",
      "metadata": {
        "execution": {
          "iopub.execute_input": "2022-10-31T02:56:35.748670Z",
          "iopub.status.busy": "2022-10-31T02:56:35.743707Z",
          "iopub.status.idle": "2022-10-31T02:56:47.638275Z",
          "shell.execute_reply": "2022-10-31T02:56:47.637313Z",
          "shell.execute_reply.started": "2022-10-31T02:56:35.748595Z"
        },
        "tags": [],
        "id": "d0e532c6-adb1-490f-9216-7062134ccfe4"
      },
      "outputs": [],
      "source": [
        "def encode(x):\n",
        "    if x==0:\n",
        "        return False\n",
        "    if x>0:\n",
        "        return True\n",
        "\n",
        "basket_encode = basket.applymap(encode)\n",
        "basket_encode"
      ]
    },
    {
      "cell_type": "code",
      "execution_count": null,
      "id": "ac23f3b5-1ff7-426b-84c8-cfaf76d86ead",
      "metadata": {
        "execution": {
          "iopub.execute_input": "2022-10-31T02:56:47.642800Z",
          "iopub.status.busy": "2022-10-31T02:56:47.642174Z",
          "iopub.status.idle": "2022-10-31T02:56:47.831792Z",
          "shell.execute_reply": "2022-10-31T02:56:47.830905Z",
          "shell.execute_reply.started": "2022-10-31T02:56:47.642771Z"
        },
        "tags": [],
        "id": "ac23f3b5-1ff7-426b-84c8-cfaf76d86ead"
      },
      "outputs": [],
      "source": [
        "basket_encode.info()"
      ]
    },
    {
      "cell_type": "markdown",
      "id": "f587ea0c-0265-4f6c-a698-b5a251e97083",
      "metadata": {
        "execution": {
          "iopub.execute_input": "2022-10-22T11:05:50.951453Z",
          "iopub.status.busy": "2022-10-22T11:05:50.951041Z",
          "iopub.status.idle": "2022-10-22T11:05:51.330749Z",
          "shell.execute_reply": "2022-10-22T11:05:51.329414Z",
          "shell.execute_reply.started": "2022-10-22T11:05:50.951413Z"
        },
        "tags": [],
        "id": "f587ea0c-0265-4f6c-a698-b5a251e97083"
      },
      "source": [
        "## Ambil transaksi dengan banyaknya produk unik lebih dari 1 saja"
      ]
    },
    {
      "cell_type": "code",
      "execution_count": null,
      "id": "20722b4a-fd44-4b99-a54d-35f7647b7d66",
      "metadata": {
        "execution": {
          "iopub.execute_input": "2022-10-31T02:56:47.834429Z",
          "iopub.status.busy": "2022-10-31T02:56:47.833975Z",
          "iopub.status.idle": "2022-10-31T02:56:48.163722Z",
          "shell.execute_reply": "2022-10-31T02:56:48.156573Z",
          "shell.execute_reply.started": "2022-10-31T02:56:47.834399Z"
        },
        "tags": [],
        "id": "20722b4a-fd44-4b99-a54d-35f7647b7d66"
      },
      "outputs": [],
      "source": [
        "basket_filter = basket_encode[(basket_encode>0).sum(axis=1)>1]\n",
        "basket_filter"
      ]
    },
    {
      "cell_type": "code",
      "execution_count": null,
      "id": "afcc58a7-f5c1-48b1-a348-e32ea269e8d5",
      "metadata": {
        "execution": {
          "iopub.execute_input": "2022-10-31T02:56:48.172101Z",
          "iopub.status.busy": "2022-10-31T02:56:48.171657Z",
          "iopub.status.idle": "2022-10-31T02:56:48.311247Z",
          "shell.execute_reply": "2022-10-31T02:56:48.310551Z",
          "shell.execute_reply.started": "2022-10-31T02:56:48.172070Z"
        },
        "tags": [],
        "id": "afcc58a7-f5c1-48b1-a348-e32ea269e8d5"
      },
      "outputs": [],
      "source": [
        "basket_filter.info()"
      ]
    },
    {
      "cell_type": "code",
      "execution_count": null,
      "id": "d37b76e9-d4d8-4fdd-a793-b6b5d1234a8a",
      "metadata": {
        "id": "d37b76e9-d4d8-4fdd-a793-b6b5d1234a8a"
      },
      "outputs": [],
      "source": []
    }
  ],
  "metadata": {
    "kernelspec": {
      "display_name": "Python 3 (ipykernel)",
      "language": "python",
      "name": "python3"
    },
    "language_info": {
      "codemirror_mode": {
        "name": "ipython",
        "version": 3
      },
      "file_extension": ".py",
      "mimetype": "text/x-python",
      "name": "python",
      "nbconvert_exporter": "python",
      "pygments_lexer": "ipython3",
      "version": "3.9.12"
    },
    "toc": {
      "base_numbering": 1,
      "nav_menu": {},
      "number_sections": true,
      "sideBar": true,
      "skip_h1_title": false,
      "title_cell": "Table of Contents",
      "title_sidebar": "Contents",
      "toc_cell": false,
      "toc_position": {},
      "toc_section_display": true,
      "toc_window_display": true
    },
    "colab": {
      "provenance": []
    }
  },
  "nbformat": 4,
  "nbformat_minor": 5
}