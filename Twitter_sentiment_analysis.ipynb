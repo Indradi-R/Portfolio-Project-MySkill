{
  "cells": [
    {
      "cell_type": "markdown",
      "id": "dcbce4b8",
      "metadata": {
        "_cell_guid": "b1076dfc-b9ad-4769-8c92-a6c4dae69d19",
        "_uuid": "8f2839f25d086af736a60e9eeb907d3b93b6e0e5",
        "execution": {
          "iopub.execute_input": "2023-07-03T09:22:53.370133Z",
          "iopub.status.busy": "2023-07-03T09:22:53.369384Z",
          "iopub.status.idle": "2023-07-03T09:23:16.015825Z",
          "shell.execute_reply": "2023-07-03T09:23:16.014492Z",
          "shell.execute_reply.started": "2023-07-03T09:22:53.370087Z"
        },
        "papermill": {
          "duration": 0.009532,
          "end_time": "2024-01-02T07:05:22.620914",
          "exception": false,
          "start_time": "2024-01-02T07:05:22.611382",
          "status": "completed"
        },
        "tags": [],
        "id": "dcbce4b8"
      },
      "source": [
        "# Libraries Implemented"
      ]
    },
    {
      "cell_type": "code",
      "execution_count": null,
      "id": "c04b74a1",
      "metadata": {
        "execution": {
          "iopub.execute_input": "2024-01-02T07:05:22.637227Z",
          "iopub.status.busy": "2024-01-02T07:05:22.636843Z",
          "iopub.status.idle": "2024-01-02T07:05:25.534964Z",
          "shell.execute_reply": "2024-01-02T07:05:25.533772Z"
        },
        "papermill": {
          "duration": 2.909637,
          "end_time": "2024-01-02T07:05:25.537980",
          "exception": false,
          "start_time": "2024-01-02T07:05:22.628343",
          "status": "completed"
        },
        "tags": [],
        "colab": {
          "base_uri": "https://localhost:8080/"
        },
        "id": "c04b74a1",
        "outputId": "eef97685-bca9-49cf-d678-ece632368e5c"
      },
      "outputs": [
        {
          "output_type": "stream",
          "name": "stderr",
          "text": [
            "[nltk_data] Downloading package stopwords to /root/nltk_data...\n",
            "[nltk_data]   Unzipping corpora/stopwords.zip.\n",
            "[nltk_data] Downloading package wordnet to /root/nltk_data...\n"
          ]
        },
        {
          "output_type": "execute_result",
          "data": {
            "text/plain": [
              "True"
            ]
          },
          "metadata": {},
          "execution_count": 1
        }
      ],
      "source": [
        "import pandas as pd\n",
        "import numpy as np\n",
        "import seaborn as sns\n",
        "import matplotlib.pyplot as plt\n",
        "import string\n",
        "\n",
        "import nltk\n",
        "from nltk.corpus import stopwords\n",
        "from nltk import word_tokenize\n",
        "from nltk import pos_tag\n",
        "from nltk.corpus import wordnet\n",
        "from nltk.stem import WordNetLemmatizer\n",
        "from wordcloud import WordCloud,STOPWORDS\n",
        "\n",
        "from sklearn.feature_extraction.text import CountVectorizer\n",
        "from sklearn.feature_extraction.text import TfidfTransformer\n",
        "from sklearn.pipeline import Pipeline\n",
        "from sklearn.linear_model import LogisticRegression\n",
        "from sklearn.neighbors import KNeighborsClassifier\n",
        "from sklearn.tree import DecisionTreeClassifier\n",
        "from sklearn.ensemble import RandomForestClassifier\n",
        "from sklearn.metrics import accuracy_score\n",
        "\n",
        "nltk.download('stopwords')\n",
        "nltk.download('wordnet')\n"
      ]
    },
    {
      "cell_type": "code",
      "execution_count": null,
      "id": "a2402552",
      "metadata": {
        "execution": {
          "iopub.execute_input": "2024-01-02T07:05:25.554872Z",
          "iopub.status.busy": "2024-01-02T07:05:25.554506Z",
          "iopub.status.idle": "2024-01-02T07:05:25.569322Z",
          "shell.execute_reply": "2024-01-02T07:05:25.568180Z"
        },
        "papermill": {
          "duration": 0.026091,
          "end_time": "2024-01-02T07:05:25.571876",
          "exception": false,
          "start_time": "2024-01-02T07:05:25.545785",
          "status": "completed"
        },
        "tags": [],
        "id": "a2402552"
      },
      "outputs": [],
      "source": [
        "from sklearn.linear_model import LogisticRegression\n",
        "from sklearn.neighbors import KNeighborsClassifier\n",
        "from sklearn.svm import SVC, LinearSVC, NuSVC\n",
        "from sklearn.tree import DecisionTreeClassifier\n",
        "from sklearn.ensemble import RandomForestClassifier, AdaBoostClassifier, GradientBoostingClassifier\n",
        "from sklearn.naive_bayes import GaussianNB\n",
        "from sklearn.metrics import accuracy_score"
      ]
    },
    {
      "cell_type": "markdown",
      "id": "4237af1f",
      "metadata": {
        "papermill": {
          "duration": 0.007303,
          "end_time": "2024-01-02T07:05:25.587052",
          "exception": false,
          "start_time": "2024-01-02T07:05:25.579749",
          "status": "completed"
        },
        "tags": [],
        "id": "4237af1f"
      },
      "source": [
        "# Data Loading"
      ]
    },
    {
      "cell_type": "code",
      "execution_count": null,
      "id": "d06ea246",
      "metadata": {
        "execution": {
          "iopub.execute_input": "2024-01-02T07:05:25.604252Z",
          "iopub.status.busy": "2024-01-02T07:05:25.603908Z",
          "iopub.status.idle": "2024-01-02T07:05:25.609228Z",
          "shell.execute_reply": "2024-01-02T07:05:25.607866Z"
        },
        "papermill": {
          "duration": 0.017365,
          "end_time": "2024-01-02T07:05:25.612012",
          "exception": false,
          "start_time": "2024-01-02T07:05:25.594647",
          "status": "completed"
        },
        "tags": [],
        "id": "d06ea246"
      },
      "outputs": [],
      "source": [
        "col_names=[\"tweet id\",\"entity\",\"sentiment\",\"tweet content\"]"
      ]
    },
    {
      "cell_type": "code",
      "source": [
        "from google.colab import drive\n",
        "drive.mount('/content/drive')"
      ],
      "metadata": {
        "colab": {
          "base_uri": "https://localhost:8080/"
        },
        "id": "ya6O2vxxeLnO",
        "outputId": "03b0ae0e-704e-416c-ed9a-90fa75e76ef0"
      },
      "id": "ya6O2vxxeLnO",
      "execution_count": null,
      "outputs": [
        {
          "output_type": "stream",
          "name": "stdout",
          "text": [
            "Mounted at /content/drive\n"
          ]
        }
      ]
    },
    {
      "cell_type": "code",
      "execution_count": null,
      "id": "d881121b",
      "metadata": {
        "execution": {
          "iopub.execute_input": "2024-01-02T07:05:25.629764Z",
          "iopub.status.busy": "2024-01-02T07:05:25.629385Z",
          "iopub.status.idle": "2024-01-02T07:05:25.981298Z",
          "shell.execute_reply": "2024-01-02T07:05:25.980151Z"
        },
        "papermill": {
          "duration": 0.36352,
          "end_time": "2024-01-02T07:05:25.983460",
          "exception": false,
          "start_time": "2024-01-02T07:05:25.619940",
          "status": "completed"
        },
        "tags": [],
        "colab": {
          "base_uri": "https://localhost:8080/",
          "height": 53
        },
        "id": "d881121b",
        "outputId": "0f1d8f57-f421-4ce5-cd7f-1720e937245f"
      },
      "outputs": [
        {
          "output_type": "execute_result",
          "data": {
            "text/plain": [
              "Empty DataFrame\n",
              "Columns: [tweet id, entity, sentiment, tweet content]\n",
              "Index: []"
            ],
            "text/html": [
              "\n",
              "  <div id=\"df-e5643c35-4602-48bc-800f-e61ce37ee405\" class=\"colab-df-container\">\n",
              "    <div>\n",
              "<style scoped>\n",
              "    .dataframe tbody tr th:only-of-type {\n",
              "        vertical-align: middle;\n",
              "    }\n",
              "\n",
              "    .dataframe tbody tr th {\n",
              "        vertical-align: top;\n",
              "    }\n",
              "\n",
              "    .dataframe thead th {\n",
              "        text-align: right;\n",
              "    }\n",
              "</style>\n",
              "<table border=\"1\" class=\"dataframe\">\n",
              "  <thead>\n",
              "    <tr style=\"text-align: right;\">\n",
              "      <th></th>\n",
              "      <th>tweet id</th>\n",
              "      <th>entity</th>\n",
              "      <th>sentiment</th>\n",
              "      <th>tweet content</th>\n",
              "    </tr>\n",
              "  </thead>\n",
              "  <tbody>\n",
              "  </tbody>\n",
              "</table>\n",
              "</div>\n",
              "    <div class=\"colab-df-buttons\">\n",
              "\n",
              "  <div class=\"colab-df-container\">\n",
              "    <button class=\"colab-df-convert\" onclick=\"convertToInteractive('df-e5643c35-4602-48bc-800f-e61ce37ee405')\"\n",
              "            title=\"Convert this dataframe to an interactive table.\"\n",
              "            style=\"display:none;\">\n",
              "\n",
              "  <svg xmlns=\"http://www.w3.org/2000/svg\" height=\"24px\" viewBox=\"0 -960 960 960\">\n",
              "    <path d=\"M120-120v-720h720v720H120Zm60-500h600v-160H180v160Zm220 220h160v-160H400v160Zm0 220h160v-160H400v160ZM180-400h160v-160H180v160Zm440 0h160v-160H620v160ZM180-180h160v-160H180v160Zm440 0h160v-160H620v160Z\"/>\n",
              "  </svg>\n",
              "    </button>\n",
              "\n",
              "  <style>\n",
              "    .colab-df-container {\n",
              "      display:flex;\n",
              "      gap: 12px;\n",
              "    }\n",
              "\n",
              "    .colab-df-convert {\n",
              "      background-color: #E8F0FE;\n",
              "      border: none;\n",
              "      border-radius: 50%;\n",
              "      cursor: pointer;\n",
              "      display: none;\n",
              "      fill: #1967D2;\n",
              "      height: 32px;\n",
              "      padding: 0 0 0 0;\n",
              "      width: 32px;\n",
              "    }\n",
              "\n",
              "    .colab-df-convert:hover {\n",
              "      background-color: #E2EBFA;\n",
              "      box-shadow: 0px 1px 2px rgba(60, 64, 67, 0.3), 0px 1px 3px 1px rgba(60, 64, 67, 0.15);\n",
              "      fill: #174EA6;\n",
              "    }\n",
              "\n",
              "    .colab-df-buttons div {\n",
              "      margin-bottom: 4px;\n",
              "    }\n",
              "\n",
              "    [theme=dark] .colab-df-convert {\n",
              "      background-color: #3B4455;\n",
              "      fill: #D2E3FC;\n",
              "    }\n",
              "\n",
              "    [theme=dark] .colab-df-convert:hover {\n",
              "      background-color: #434B5C;\n",
              "      box-shadow: 0px 1px 3px 1px rgba(0, 0, 0, 0.15);\n",
              "      filter: drop-shadow(0px 1px 2px rgba(0, 0, 0, 0.3));\n",
              "      fill: #FFFFFF;\n",
              "    }\n",
              "  </style>\n",
              "\n",
              "    <script>\n",
              "      const buttonEl =\n",
              "        document.querySelector('#df-e5643c35-4602-48bc-800f-e61ce37ee405 button.colab-df-convert');\n",
              "      buttonEl.style.display =\n",
              "        google.colab.kernel.accessAllowed ? 'block' : 'none';\n",
              "\n",
              "      async function convertToInteractive(key) {\n",
              "        const element = document.querySelector('#df-e5643c35-4602-48bc-800f-e61ce37ee405');\n",
              "        const dataTable =\n",
              "          await google.colab.kernel.invokeFunction('convertToInteractive',\n",
              "                                                    [key], {});\n",
              "        if (!dataTable) return;\n",
              "\n",
              "        const docLinkHtml = 'Like what you see? Visit the ' +\n",
              "          '<a target=\"_blank\" href=https://colab.research.google.com/notebooks/data_table.ipynb>data table notebook</a>'\n",
              "          + ' to learn more about interactive tables.';\n",
              "        element.innerHTML = '';\n",
              "        dataTable['output_type'] = 'display_data';\n",
              "        await google.colab.output.renderOutput(dataTable, element);\n",
              "        const docLink = document.createElement('div');\n",
              "        docLink.innerHTML = docLinkHtml;\n",
              "        element.appendChild(docLink);\n",
              "      }\n",
              "    </script>\n",
              "  </div>\n",
              "\n",
              "\n",
              "    </div>\n",
              "  </div>\n"
            ],
            "application/vnd.google.colaboratory.intrinsic+json": {
              "type": "dataframe",
              "variable_name": "df",
              "repr_error": "Out of range float values are not JSON compliant: nan"
            }
          },
          "metadata": {},
          "execution_count": 32
        }
      ],
      "source": [
        "col_names=[\"tweet id\",\"entity\",\"sentiment\",\"tweet content\"]\n",
        "df = pd.read_csv(\"/content/drive/MyDrive/myskill/Salinan twitter_training.csv\",names=col_names,header=None)\n",
        "df.head()"
      ]
    },
    {
      "cell_type": "code",
      "execution_count": null,
      "id": "a657b18e",
      "metadata": {
        "execution": {
          "iopub.execute_input": "2024-01-02T07:05:26.000653Z",
          "iopub.status.busy": "2024-01-02T07:05:26.000304Z",
          "iopub.status.idle": "2024-01-02T07:05:26.038828Z",
          "shell.execute_reply": "2024-01-02T07:05:26.037141Z"
        },
        "papermill": {
          "duration": 0.049613,
          "end_time": "2024-01-02T07:05:26.040996",
          "exception": false,
          "start_time": "2024-01-02T07:05:25.991383",
          "status": "completed"
        },
        "tags": [],
        "id": "a657b18e",
        "outputId": "1ba8a072-7f01-49ec-8a89-5324879fdb4f",
        "colab": {
          "base_uri": "https://localhost:8080/",
          "height": 206
        }
      },
      "outputs": [
        {
          "output_type": "execute_result",
          "data": {
            "text/plain": [
              "   tweet id     entity   sentiment  \\\n",
              "0      3364   Facebook  Irrelevant   \n",
              "1       352     Amazon     Neutral   \n",
              "2      8312  Microsoft    Negative   \n",
              "3      4371      CS-GO    Negative   \n",
              "4      4433     Google     Neutral   \n",
              "\n",
              "                                       tweet content  \n",
              "0  I mentioned on Facebook that I was struggling ...  \n",
              "1  BBC News - Amazon boss Jeff Bezos rejects clai...  \n",
              "2  @Microsoft Why do I pay for WORD when it funct...  \n",
              "3  CSGO matchmaking is so full of closet hacking,...  \n",
              "4  Now the President is slapping Americans in the...  "
            ],
            "text/html": [
              "\n",
              "  <div id=\"df-e92bbb6f-8f97-4048-83fc-deacef705565\" class=\"colab-df-container\">\n",
              "    <div>\n",
              "<style scoped>\n",
              "    .dataframe tbody tr th:only-of-type {\n",
              "        vertical-align: middle;\n",
              "    }\n",
              "\n",
              "    .dataframe tbody tr th {\n",
              "        vertical-align: top;\n",
              "    }\n",
              "\n",
              "    .dataframe thead th {\n",
              "        text-align: right;\n",
              "    }\n",
              "</style>\n",
              "<table border=\"1\" class=\"dataframe\">\n",
              "  <thead>\n",
              "    <tr style=\"text-align: right;\">\n",
              "      <th></th>\n",
              "      <th>tweet id</th>\n",
              "      <th>entity</th>\n",
              "      <th>sentiment</th>\n",
              "      <th>tweet content</th>\n",
              "    </tr>\n",
              "  </thead>\n",
              "  <tbody>\n",
              "    <tr>\n",
              "      <th>0</th>\n",
              "      <td>3364</td>\n",
              "      <td>Facebook</td>\n",
              "      <td>Irrelevant</td>\n",
              "      <td>I mentioned on Facebook that I was struggling ...</td>\n",
              "    </tr>\n",
              "    <tr>\n",
              "      <th>1</th>\n",
              "      <td>352</td>\n",
              "      <td>Amazon</td>\n",
              "      <td>Neutral</td>\n",
              "      <td>BBC News - Amazon boss Jeff Bezos rejects clai...</td>\n",
              "    </tr>\n",
              "    <tr>\n",
              "      <th>2</th>\n",
              "      <td>8312</td>\n",
              "      <td>Microsoft</td>\n",
              "      <td>Negative</td>\n",
              "      <td>@Microsoft Why do I pay for WORD when it funct...</td>\n",
              "    </tr>\n",
              "    <tr>\n",
              "      <th>3</th>\n",
              "      <td>4371</td>\n",
              "      <td>CS-GO</td>\n",
              "      <td>Negative</td>\n",
              "      <td>CSGO matchmaking is so full of closet hacking,...</td>\n",
              "    </tr>\n",
              "    <tr>\n",
              "      <th>4</th>\n",
              "      <td>4433</td>\n",
              "      <td>Google</td>\n",
              "      <td>Neutral</td>\n",
              "      <td>Now the President is slapping Americans in the...</td>\n",
              "    </tr>\n",
              "  </tbody>\n",
              "</table>\n",
              "</div>\n",
              "    <div class=\"colab-df-buttons\">\n",
              "\n",
              "  <div class=\"colab-df-container\">\n",
              "    <button class=\"colab-df-convert\" onclick=\"convertToInteractive('df-e92bbb6f-8f97-4048-83fc-deacef705565')\"\n",
              "            title=\"Convert this dataframe to an interactive table.\"\n",
              "            style=\"display:none;\">\n",
              "\n",
              "  <svg xmlns=\"http://www.w3.org/2000/svg\" height=\"24px\" viewBox=\"0 -960 960 960\">\n",
              "    <path d=\"M120-120v-720h720v720H120Zm60-500h600v-160H180v160Zm220 220h160v-160H400v160Zm0 220h160v-160H400v160ZM180-400h160v-160H180v160Zm440 0h160v-160H620v160ZM180-180h160v-160H180v160Zm440 0h160v-160H620v160Z\"/>\n",
              "  </svg>\n",
              "    </button>\n",
              "\n",
              "  <style>\n",
              "    .colab-df-container {\n",
              "      display:flex;\n",
              "      gap: 12px;\n",
              "    }\n",
              "\n",
              "    .colab-df-convert {\n",
              "      background-color: #E8F0FE;\n",
              "      border: none;\n",
              "      border-radius: 50%;\n",
              "      cursor: pointer;\n",
              "      display: none;\n",
              "      fill: #1967D2;\n",
              "      height: 32px;\n",
              "      padding: 0 0 0 0;\n",
              "      width: 32px;\n",
              "    }\n",
              "\n",
              "    .colab-df-convert:hover {\n",
              "      background-color: #E2EBFA;\n",
              "      box-shadow: 0px 1px 2px rgba(60, 64, 67, 0.3), 0px 1px 3px 1px rgba(60, 64, 67, 0.15);\n",
              "      fill: #174EA6;\n",
              "    }\n",
              "\n",
              "    .colab-df-buttons div {\n",
              "      margin-bottom: 4px;\n",
              "    }\n",
              "\n",
              "    [theme=dark] .colab-df-convert {\n",
              "      background-color: #3B4455;\n",
              "      fill: #D2E3FC;\n",
              "    }\n",
              "\n",
              "    [theme=dark] .colab-df-convert:hover {\n",
              "      background-color: #434B5C;\n",
              "      box-shadow: 0px 1px 3px 1px rgba(0, 0, 0, 0.15);\n",
              "      filter: drop-shadow(0px 1px 2px rgba(0, 0, 0, 0.3));\n",
              "      fill: #FFFFFF;\n",
              "    }\n",
              "  </style>\n",
              "\n",
              "    <script>\n",
              "      const buttonEl =\n",
              "        document.querySelector('#df-e92bbb6f-8f97-4048-83fc-deacef705565 button.colab-df-convert');\n",
              "      buttonEl.style.display =\n",
              "        google.colab.kernel.accessAllowed ? 'block' : 'none';\n",
              "\n",
              "      async function convertToInteractive(key) {\n",
              "        const element = document.querySelector('#df-e92bbb6f-8f97-4048-83fc-deacef705565');\n",
              "        const dataTable =\n",
              "          await google.colab.kernel.invokeFunction('convertToInteractive',\n",
              "                                                    [key], {});\n",
              "        if (!dataTable) return;\n",
              "\n",
              "        const docLinkHtml = 'Like what you see? Visit the ' +\n",
              "          '<a target=\"_blank\" href=https://colab.research.google.com/notebooks/data_table.ipynb>data table notebook</a>'\n",
              "          + ' to learn more about interactive tables.';\n",
              "        element.innerHTML = '';\n",
              "        dataTable['output_type'] = 'display_data';\n",
              "        await google.colab.output.renderOutput(dataTable, element);\n",
              "        const docLink = document.createElement('div');\n",
              "        docLink.innerHTML = docLinkHtml;\n",
              "        element.appendChild(docLink);\n",
              "      }\n",
              "    </script>\n",
              "  </div>\n",
              "\n",
              "\n",
              "<div id=\"df-330e1419-9ae2-423b-a4c3-02cd1dbfce41\">\n",
              "  <button class=\"colab-df-quickchart\" onclick=\"quickchart('df-330e1419-9ae2-423b-a4c3-02cd1dbfce41')\"\n",
              "            title=\"Suggest charts\"\n",
              "            style=\"display:none;\">\n",
              "\n",
              "<svg xmlns=\"http://www.w3.org/2000/svg\" height=\"24px\"viewBox=\"0 0 24 24\"\n",
              "     width=\"24px\">\n",
              "    <g>\n",
              "        <path d=\"M19 3H5c-1.1 0-2 .9-2 2v14c0 1.1.9 2 2 2h14c1.1 0 2-.9 2-2V5c0-1.1-.9-2-2-2zM9 17H7v-7h2v7zm4 0h-2V7h2v10zm4 0h-2v-4h2v4z\"/>\n",
              "    </g>\n",
              "</svg>\n",
              "  </button>\n",
              "\n",
              "<style>\n",
              "  .colab-df-quickchart {\n",
              "      --bg-color: #E8F0FE;\n",
              "      --fill-color: #1967D2;\n",
              "      --hover-bg-color: #E2EBFA;\n",
              "      --hover-fill-color: #174EA6;\n",
              "      --disabled-fill-color: #AAA;\n",
              "      --disabled-bg-color: #DDD;\n",
              "  }\n",
              "\n",
              "  [theme=dark] .colab-df-quickchart {\n",
              "      --bg-color: #3B4455;\n",
              "      --fill-color: #D2E3FC;\n",
              "      --hover-bg-color: #434B5C;\n",
              "      --hover-fill-color: #FFFFFF;\n",
              "      --disabled-bg-color: #3B4455;\n",
              "      --disabled-fill-color: #666;\n",
              "  }\n",
              "\n",
              "  .colab-df-quickchart {\n",
              "    background-color: var(--bg-color);\n",
              "    border: none;\n",
              "    border-radius: 50%;\n",
              "    cursor: pointer;\n",
              "    display: none;\n",
              "    fill: var(--fill-color);\n",
              "    height: 32px;\n",
              "    padding: 0;\n",
              "    width: 32px;\n",
              "  }\n",
              "\n",
              "  .colab-df-quickchart:hover {\n",
              "    background-color: var(--hover-bg-color);\n",
              "    box-shadow: 0 1px 2px rgba(60, 64, 67, 0.3), 0 1px 3px 1px rgba(60, 64, 67, 0.15);\n",
              "    fill: var(--button-hover-fill-color);\n",
              "  }\n",
              "\n",
              "  .colab-df-quickchart-complete:disabled,\n",
              "  .colab-df-quickchart-complete:disabled:hover {\n",
              "    background-color: var(--disabled-bg-color);\n",
              "    fill: var(--disabled-fill-color);\n",
              "    box-shadow: none;\n",
              "  }\n",
              "\n",
              "  .colab-df-spinner {\n",
              "    border: 2px solid var(--fill-color);\n",
              "    border-color: transparent;\n",
              "    border-bottom-color: var(--fill-color);\n",
              "    animation:\n",
              "      spin 1s steps(1) infinite;\n",
              "  }\n",
              "\n",
              "  @keyframes spin {\n",
              "    0% {\n",
              "      border-color: transparent;\n",
              "      border-bottom-color: var(--fill-color);\n",
              "      border-left-color: var(--fill-color);\n",
              "    }\n",
              "    20% {\n",
              "      border-color: transparent;\n",
              "      border-left-color: var(--fill-color);\n",
              "      border-top-color: var(--fill-color);\n",
              "    }\n",
              "    30% {\n",
              "      border-color: transparent;\n",
              "      border-left-color: var(--fill-color);\n",
              "      border-top-color: var(--fill-color);\n",
              "      border-right-color: var(--fill-color);\n",
              "    }\n",
              "    40% {\n",
              "      border-color: transparent;\n",
              "      border-right-color: var(--fill-color);\n",
              "      border-top-color: var(--fill-color);\n",
              "    }\n",
              "    60% {\n",
              "      border-color: transparent;\n",
              "      border-right-color: var(--fill-color);\n",
              "    }\n",
              "    80% {\n",
              "      border-color: transparent;\n",
              "      border-right-color: var(--fill-color);\n",
              "      border-bottom-color: var(--fill-color);\n",
              "    }\n",
              "    90% {\n",
              "      border-color: transparent;\n",
              "      border-bottom-color: var(--fill-color);\n",
              "    }\n",
              "  }\n",
              "</style>\n",
              "\n",
              "  <script>\n",
              "    async function quickchart(key) {\n",
              "      const quickchartButtonEl =\n",
              "        document.querySelector('#' + key + ' button');\n",
              "      quickchartButtonEl.disabled = true;  // To prevent multiple clicks.\n",
              "      quickchartButtonEl.classList.add('colab-df-spinner');\n",
              "      try {\n",
              "        const charts = await google.colab.kernel.invokeFunction(\n",
              "            'suggestCharts', [key], {});\n",
              "      } catch (error) {\n",
              "        console.error('Error during call to suggestCharts:', error);\n",
              "      }\n",
              "      quickchartButtonEl.classList.remove('colab-df-spinner');\n",
              "      quickchartButtonEl.classList.add('colab-df-quickchart-complete');\n",
              "    }\n",
              "    (() => {\n",
              "      let quickchartButtonEl =\n",
              "        document.querySelector('#df-330e1419-9ae2-423b-a4c3-02cd1dbfce41 button');\n",
              "      quickchartButtonEl.style.display =\n",
              "        google.colab.kernel.accessAllowed ? 'block' : 'none';\n",
              "    })();\n",
              "  </script>\n",
              "</div>\n",
              "\n",
              "    </div>\n",
              "  </div>\n"
            ],
            "application/vnd.google.colaboratory.intrinsic+json": {
              "type": "dataframe",
              "variable_name": "df_val",
              "summary": "{\n  \"name\": \"df_val\",\n  \"rows\": 1000,\n  \"fields\": [\n    {\n      \"column\": \"tweet id\",\n      \"properties\": {\n        \"dtype\": \"number\",\n        \"std\": 3728,\n        \"min\": 6,\n        \"max\": 13197,\n        \"num_unique_values\": 1000,\n        \"samples\": [\n          11656,\n          9769,\n          7021\n        ],\n        \"semantic_type\": \"\",\n        \"description\": \"\"\n      }\n    },\n    {\n      \"column\": \"entity\",\n      \"properties\": {\n        \"dtype\": \"category\",\n        \"num_unique_values\": 32,\n        \"samples\": [\n          \"WorldOfCraft\",\n          \"RedDeadRedemption(RDR)\",\n          \"Xbox(Xseries)\"\n        ],\n        \"semantic_type\": \"\",\n        \"description\": \"\"\n      }\n    },\n    {\n      \"column\": \"sentiment\",\n      \"properties\": {\n        \"dtype\": \"category\",\n        \"num_unique_values\": 4,\n        \"samples\": [\n          \"Neutral\",\n          \"Positive\",\n          \"Irrelevant\"\n        ],\n        \"semantic_type\": \"\",\n        \"description\": \"\"\n      }\n    },\n    {\n      \"column\": \"tweet content\",\n      \"properties\": {\n        \"dtype\": \"string\",\n        \"num_unique_values\": 999,\n        \"samples\": [\n          \"Man this some GTA shit lol.\",\n          \"@Xbox @majornelson I\\u2019d love to bring home a new Xbox Series X, but they are all sold out. So the emails are VERY misleading. Just sayin.\",\n          \"This is dope! Puff is such a great kid.\"\n        ],\n        \"semantic_type\": \"\",\n        \"description\": \"\"\n      }\n    }\n  ]\n}"
            }
          },
          "metadata": {},
          "execution_count": 33
        }
      ],
      "source": [
        "df_val = pd.read_csv(\"/content/drive/MyDrive/myskill/Salinan twitter_validation.csv\",names=col_names,header=None)\n",
        "df_val.head()"
      ]
    },
    {
      "cell_type": "markdown",
      "id": "9d4a2e95",
      "metadata": {
        "papermill": {
          "duration": 0.007516,
          "end_time": "2024-01-02T07:05:26.056650",
          "exception": false,
          "start_time": "2024-01-02T07:05:26.049134",
          "status": "completed"
        },
        "tags": [],
        "id": "9d4a2e95"
      },
      "source": [
        "# Data Cleaning"
      ]
    },
    {
      "cell_type": "markdown",
      "id": "f0f8d760",
      "metadata": {
        "papermill": {
          "duration": 0.007232,
          "end_time": "2024-01-02T07:05:26.071535",
          "exception": false,
          "start_time": "2024-01-02T07:05:26.064303",
          "status": "completed"
        },
        "tags": [],
        "id": "f0f8d760"
      },
      "source": [
        "**Remove null values**"
      ]
    },
    {
      "cell_type": "code",
      "execution_count": null,
      "id": "f858ebdd",
      "metadata": {
        "execution": {
          "iopub.execute_input": "2024-01-02T07:05:26.088901Z",
          "iopub.status.busy": "2024-01-02T07:05:26.088508Z",
          "iopub.status.idle": "2024-01-02T07:05:26.135594Z",
          "shell.execute_reply": "2024-01-02T07:05:26.134679Z"
        },
        "papermill": {
          "duration": 0.05839,
          "end_time": "2024-01-02T07:05:26.137607",
          "exception": false,
          "start_time": "2024-01-02T07:05:26.079217",
          "status": "completed"
        },
        "tags": [],
        "id": "f858ebdd",
        "outputId": "cfdd25ec-de75-4b26-da02-f2754e49368d",
        "colab": {
          "base_uri": "https://localhost:8080/",
          "height": 210
        }
      },
      "outputs": [
        {
          "output_type": "execute_result",
          "data": {
            "text/plain": [
              "tweet id         0\n",
              "entity           0\n",
              "sentiment        0\n",
              "tweet content    0\n",
              "dtype: int64"
            ],
            "text/html": [
              "<div>\n",
              "<style scoped>\n",
              "    .dataframe tbody tr th:only-of-type {\n",
              "        vertical-align: middle;\n",
              "    }\n",
              "\n",
              "    .dataframe tbody tr th {\n",
              "        vertical-align: top;\n",
              "    }\n",
              "\n",
              "    .dataframe thead th {\n",
              "        text-align: right;\n",
              "    }\n",
              "</style>\n",
              "<table border=\"1\" class=\"dataframe\">\n",
              "  <thead>\n",
              "    <tr style=\"text-align: right;\">\n",
              "      <th></th>\n",
              "      <th>0</th>\n",
              "    </tr>\n",
              "  </thead>\n",
              "  <tbody>\n",
              "    <tr>\n",
              "      <th>tweet id</th>\n",
              "      <td>0</td>\n",
              "    </tr>\n",
              "    <tr>\n",
              "      <th>entity</th>\n",
              "      <td>0</td>\n",
              "    </tr>\n",
              "    <tr>\n",
              "      <th>sentiment</th>\n",
              "      <td>0</td>\n",
              "    </tr>\n",
              "    <tr>\n",
              "      <th>tweet content</th>\n",
              "      <td>0</td>\n",
              "    </tr>\n",
              "  </tbody>\n",
              "</table>\n",
              "</div><br><label><b>dtype:</b> int64</label>"
            ]
          },
          "metadata": {},
          "execution_count": 34
        }
      ],
      "source": [
        "#Before remove\n",
        "df.isnull().sum()"
      ]
    },
    {
      "cell_type": "code",
      "execution_count": null,
      "id": "4acad6ce",
      "metadata": {
        "execution": {
          "iopub.execute_input": "2024-01-02T07:05:26.156009Z",
          "iopub.status.busy": "2024-01-02T07:05:26.155617Z",
          "iopub.status.idle": "2024-01-02T07:05:26.241673Z",
          "shell.execute_reply": "2024-01-02T07:05:26.239883Z"
        },
        "papermill": {
          "duration": 0.098427,
          "end_time": "2024-01-02T07:05:26.244347",
          "exception": false,
          "start_time": "2024-01-02T07:05:26.145920",
          "status": "completed"
        },
        "tags": [],
        "id": "4acad6ce",
        "outputId": "eaa3ca34-b204-462b-a38e-2b6180839348",
        "colab": {
          "base_uri": "https://localhost:8080/",
          "height": 210
        }
      },
      "outputs": [
        {
          "output_type": "execute_result",
          "data": {
            "text/plain": [
              "tweet id         0\n",
              "entity           0\n",
              "sentiment        0\n",
              "tweet content    0\n",
              "dtype: int64"
            ],
            "text/html": [
              "<div>\n",
              "<style scoped>\n",
              "    .dataframe tbody tr th:only-of-type {\n",
              "        vertical-align: middle;\n",
              "    }\n",
              "\n",
              "    .dataframe tbody tr th {\n",
              "        vertical-align: top;\n",
              "    }\n",
              "\n",
              "    .dataframe thead th {\n",
              "        text-align: right;\n",
              "    }\n",
              "</style>\n",
              "<table border=\"1\" class=\"dataframe\">\n",
              "  <thead>\n",
              "    <tr style=\"text-align: right;\">\n",
              "      <th></th>\n",
              "      <th>0</th>\n",
              "    </tr>\n",
              "  </thead>\n",
              "  <tbody>\n",
              "    <tr>\n",
              "      <th>tweet id</th>\n",
              "      <td>0</td>\n",
              "    </tr>\n",
              "    <tr>\n",
              "      <th>entity</th>\n",
              "      <td>0</td>\n",
              "    </tr>\n",
              "    <tr>\n",
              "      <th>sentiment</th>\n",
              "      <td>0</td>\n",
              "    </tr>\n",
              "    <tr>\n",
              "      <th>tweet content</th>\n",
              "      <td>0</td>\n",
              "    </tr>\n",
              "  </tbody>\n",
              "</table>\n",
              "</div><br><label><b>dtype:</b> int64</label>"
            ]
          },
          "metadata": {},
          "execution_count": 35
        }
      ],
      "source": [
        "#After remove\n",
        "df = df.dropna()\n",
        "df.isnull().sum()"
      ]
    },
    {
      "cell_type": "markdown",
      "id": "436163e1",
      "metadata": {
        "papermill": {
          "duration": 0.008069,
          "end_time": "2024-01-02T07:05:26.261110",
          "exception": false,
          "start_time": "2024-01-02T07:05:26.253041",
          "status": "completed"
        },
        "tags": [],
        "id": "436163e1"
      },
      "source": [
        "**Remove duplicate values**"
      ]
    },
    {
      "cell_type": "code",
      "execution_count": null,
      "id": "e2822b03",
      "metadata": {
        "execution": {
          "iopub.execute_input": "2024-01-02T07:05:26.279376Z",
          "iopub.status.busy": "2024-01-02T07:05:26.279033Z",
          "iopub.status.idle": "2024-01-02T07:05:26.344646Z",
          "shell.execute_reply": "2024-01-02T07:05:26.342979Z"
        },
        "papermill": {
          "duration": 0.077643,
          "end_time": "2024-01-02T07:05:26.347207",
          "exception": false,
          "start_time": "2024-01-02T07:05:26.269564",
          "status": "completed"
        },
        "tags": [],
        "id": "e2822b03",
        "outputId": "7253c584-b341-4bb2-f5c5-e47dba9b2528",
        "colab": {
          "base_uri": "https://localhost:8080/"
        }
      },
      "outputs": [
        {
          "output_type": "stream",
          "name": "stdout",
          "text": [
            "There are 0 duplicate values in the dataset\n"
          ]
        }
      ],
      "source": [
        "#Before remove\n",
        "df_duplicated = df.duplicated().sum()\n",
        "print(f\"There are {df_duplicated} duplicate values in the dataset\")"
      ]
    },
    {
      "cell_type": "code",
      "execution_count": null,
      "id": "642e1e37",
      "metadata": {
        "execution": {
          "iopub.execute_input": "2024-01-02T07:05:26.365671Z",
          "iopub.status.busy": "2024-01-02T07:05:26.365319Z",
          "iopub.status.idle": "2024-01-02T07:05:26.474360Z",
          "shell.execute_reply": "2024-01-02T07:05:26.473066Z"
        },
        "papermill": {
          "duration": 0.120828,
          "end_time": "2024-01-02T07:05:26.476922",
          "exception": false,
          "start_time": "2024-01-02T07:05:26.356094",
          "status": "completed"
        },
        "tags": [],
        "id": "642e1e37",
        "outputId": "32c22aff-b7a4-47ac-c5ea-14220173f7ec",
        "colab": {
          "base_uri": "https://localhost:8080/"
        }
      },
      "outputs": [
        {
          "output_type": "stream",
          "name": "stdout",
          "text": [
            "There are 0 duplicate values in the dataset\n"
          ]
        }
      ],
      "source": [
        "#After remove\n",
        "df = df.drop_duplicates()\n",
        "df_remove_duplicated = df.duplicated().sum()\n",
        "print(f\"There are {df_remove_duplicated} duplicate values in the dataset\")"
      ]
    },
    {
      "cell_type": "markdown",
      "id": "6be5f022",
      "metadata": {
        "papermill": {
          "duration": 0.007852,
          "end_time": "2024-01-02T07:05:26.493234",
          "exception": false,
          "start_time": "2024-01-02T07:05:26.485382",
          "status": "completed"
        },
        "tags": [],
        "id": "6be5f022"
      },
      "source": [
        "**Remove outliners**"
      ]
    },
    {
      "cell_type": "code",
      "execution_count": null,
      "id": "b1fdb829",
      "metadata": {
        "execution": {
          "iopub.execute_input": "2024-01-02T07:05:26.511441Z",
          "iopub.status.busy": "2024-01-02T07:05:26.511089Z",
          "iopub.status.idle": "2024-01-02T07:05:26.805175Z",
          "shell.execute_reply": "2024-01-02T07:05:26.804049Z"
        },
        "papermill": {
          "duration": 0.305627,
          "end_time": "2024-01-02T07:05:26.807388",
          "exception": false,
          "start_time": "2024-01-02T07:05:26.501761",
          "status": "completed"
        },
        "tags": [],
        "id": "b1fdb829",
        "outputId": "185b99c7-c2a8-4d16-b534-a882db3abe49",
        "colab": {
          "base_uri": "https://localhost:8080/",
          "height": 469
        }
      },
      "outputs": [
        {
          "output_type": "execute_result",
          "data": {
            "text/plain": [
              "[Text(0.5, 1.0, 'Distribution of tweet content length')]"
            ]
          },
          "metadata": {},
          "execution_count": 38
        },
        {
          "output_type": "display_data",
          "data": {
            "text/plain": [
              "<Figure size 640x480 with 1 Axes>"
            ],
            "image/png": "[encoded data removed]"
          },
          "metadata": {}
        }
      ],
      "source": [
        "#Identify outliners on tweet content length\n",
        "df[\"tweet content length\"] = df[\"tweet content\"].map(lambda x:len(x.split(\" \")))\n",
        "sns.boxplot(x=\"tweet content length\",data=df).set(title='Distribution of tweet content length')"
      ]
    },
    {
      "cell_type": "code",
      "execution_count": null,
      "id": "e870834c",
      "metadata": {
        "execution": {
          "iopub.execute_input": "2024-01-02T07:05:26.828086Z",
          "iopub.status.busy": "2024-01-02T07:05:26.827649Z",
          "iopub.status.idle": "2024-01-02T07:05:26.838283Z",
          "shell.execute_reply": "2024-01-02T07:05:26.836856Z"
        },
        "papermill": {
          "duration": 0.022856,
          "end_time": "2024-01-02T07:05:26.840368",
          "exception": false,
          "start_time": "2024-01-02T07:05:26.817512",
          "status": "completed"
        },
        "tags": [],
        "id": "e870834c",
        "outputId": "340f46d2-f1fc-4c33-a1c0-db723c29e3d4",
        "colab": {
          "base_uri": "https://localhost:8080/"
        }
      },
      "outputs": [
        {
          "output_type": "stream",
          "name": "stdout",
          "text": [
            "Warning: 'tweet content length' column is empty. Skipping outlier removal.\n"
          ]
        }
      ],
      "source": [
        "# Check if 'tweet content length' column is empty before calculating percentiles\n",
        "if df[\"tweet content length\"].empty:\n",
        "    print(\"Warning: 'tweet content length' column is empty. Skipping outlier removal.\")\n",
        "    # Assign default values to lower_boundary and upper_boundary\n",
        "    lower_boundary = float('-inf')  # Negative infinity to include all values\n",
        "    upper_boundary = float('inf')   # Positive infinity to include all values\n",
        "else:\n",
        "    #Using Outlier Formula to remove rows\n",
        "    lower_quartile = np.percentile(df[\"tweet content length\"],25) #Calculating lower_quartile\n",
        "    median = np.percentile(df[\"tweet content length\"],50) #Calculating median\n",
        "    upper_quartile = np.percentile(df[\"tweet content length\"],75) #Calculating upper_quartile\n",
        "\n",
        "    interquartile_range = upper_quartile - lower_quartile #Calculating interquartile_range(IQR)\n",
        "    lower_boundary = lower_quartile - 1.5*interquartile_range #Calculating lower_boundary\n",
        "    upper_boundary = upper_quartile + 1.5*interquartile_range #Calculating upper_boundary\n",
        "\n",
        "    #tweet content length smaller than lower_boundary or larger than upper_boundary will be removed\n",
        "    print(\"lower_boundary:\",lower_boundary)\n",
        "    print(\"upper_boundary:\",upper_boundary)\n",
        "\n",
        "    #Remove outliers\n",
        "    removed_df = df[(df[\"tweet content length\"]>=lower_boundary)&(df[\"tweet content length\"]<=upper_boundary)]"
      ]
    },
    {
      "cell_type": "code",
      "execution_count": null,
      "id": "0ea5e6fb",
      "metadata": {
        "execution": {
          "iopub.execute_input": "2024-01-02T07:05:26.859178Z",
          "iopub.status.busy": "2024-01-02T07:05:26.858633Z",
          "iopub.status.idle": "2024-01-02T07:05:26.868554Z",
          "shell.execute_reply": "2024-01-02T07:05:26.867865Z"
        },
        "papermill": {
          "duration": 0.021362,
          "end_time": "2024-01-02T07:05:26.870410",
          "exception": false,
          "start_time": "2024-01-02T07:05:26.849048",
          "status": "completed"
        },
        "tags": [],
        "id": "0ea5e6fb"
      },
      "outputs": [],
      "source": [
        "#\n",
        "removed_df = df[(df[\"tweet content length\"]>=lower_boundary)&(df[\"tweet content length\"]<=upper_boundary)]"
      ]
    },
    {
      "cell_type": "code",
      "execution_count": null,
      "id": "7de7da3b",
      "metadata": {
        "execution": {
          "iopub.execute_input": "2024-01-02T07:05:26.890108Z",
          "iopub.status.busy": "2024-01-02T07:05:26.889723Z",
          "iopub.status.idle": "2024-01-02T07:05:28.470861Z",
          "shell.execute_reply": "2024-01-02T07:05:28.468986Z"
        },
        "papermill": {
          "duration": 1.593437,
          "end_time": "2024-01-02T07:05:28.473168",
          "exception": false,
          "start_time": "2024-01-02T07:05:26.879731",
          "status": "completed"
        },
        "tags": [],
        "id": "7de7da3b",
        "outputId": "019f0766-2300-4a2d-9974-79a2eb109c7a",
        "colab": {
          "base_uri": "https://localhost:8080/",
          "height": 561
        }
      },
      "outputs": [
        {
          "output_type": "display_data",
          "data": {
            "text/plain": [
              "<Figure size 1600x800 with 4 Axes>"
            ],
            "image/png": "[encoded data removed]"
          },
          "metadata": {}
        }
      ],
      "source": [
        "#Compare the distribution of tweet content length before and after remove outliers\n",
        "\n",
        "fig, ax = plt.subplots(nrows=2, ncols=2, figsize=(16,8))\n",
        "\n",
        "#distribution of tweet content length\n",
        "sns.boxplot(x=\"tweet content length\",data=df,ax=ax[0,0]).set_title(\"Distribution of tweet content length\",fontsize=18)\n",
        "sns.boxplot(x=\"tweet content length\",data=removed_df,ax=ax[0,1],color=\"orange\").set_title(\"Distribution of tweet content length after remove outliners\",fontsize=18)\n",
        "\n",
        "#frequency of tweet content length\n",
        "sns.histplot(x=\"tweet content length\",data=df,ax=ax[1,0])\n",
        "sns.histplot(x=\"tweet content length\",data=removed_df,ax=ax[1,1],color=\"orange\")\n",
        "\n",
        "fig.tight_layout()"
      ]
    },
    {
      "cell_type": "markdown",
      "id": "2d226202",
      "metadata": {
        "papermill": {
          "duration": 0.008864,
          "end_time": "2024-01-02T07:05:28.491362",
          "exception": false,
          "start_time": "2024-01-02T07:05:28.482498",
          "status": "completed"
        },
        "tags": [],
        "id": "2d226202"
      },
      "source": [
        "The tweet content length skewness is reduced after removing outliers, meaning that it has a more even distribution."
      ]
    },
    {
      "cell_type": "markdown",
      "id": "fa0e5660",
      "metadata": {
        "papermill": {
          "duration": 0.008675,
          "end_time": "2024-01-02T07:05:28.509074",
          "exception": false,
          "start_time": "2024-01-02T07:05:28.500399",
          "status": "completed"
        },
        "tags": [],
        "id": "fa0e5660"
      },
      "source": [
        "**Distribution of Labels after Data Cleaning**"
      ]
    },
    {
      "cell_type": "code",
      "execution_count": null,
      "id": "29a00bab",
      "metadata": {
        "execution": {
          "iopub.execute_input": "2024-01-02T07:05:28.528460Z",
          "iopub.status.busy": "2024-01-02T07:05:28.528106Z",
          "iopub.status.idle": "2024-01-02T07:05:28.742317Z",
          "shell.execute_reply": "2024-01-02T07:05:28.741454Z"
        },
        "papermill": {
          "duration": 0.227001,
          "end_time": "2024-01-02T07:05:28.745000",
          "exception": false,
          "start_time": "2024-01-02T07:05:28.517999",
          "status": "completed"
        },
        "tags": [],
        "id": "29a00bab",
        "outputId": "63466a7e-89d3-4df2-e93e-c6952d862e74",
        "colab": {
          "base_uri": "https://localhost:8080/",
          "height": 452
        }
      },
      "outputs": [
        {
          "output_type": "execute_result",
          "data": {
            "text/plain": [
              "<Axes: >"
            ]
          },
          "metadata": {},
          "execution_count": 42
        },
        {
          "output_type": "display_data",
          "data": {
            "text/plain": [
              "<Figure size 640x480 with 1 Axes>"
            ],
            "image/png": "[encoded data removed]"
          },
          "metadata": {}
        }
      ],
      "source": [
        "sns.countplot(x=\"sentiment\",data=removed_df)"
      ]
    },
    {
      "cell_type": "markdown",
      "id": "45d6bd51",
      "metadata": {
        "papermill": {
          "duration": 0.010111,
          "end_time": "2024-01-02T07:05:28.765467",
          "exception": false,
          "start_time": "2024-01-02T07:05:28.755356",
          "status": "completed"
        },
        "tags": [],
        "id": "45d6bd51"
      },
      "source": [
        "Distribution of sentiment is balanced, therefore resampling is not required."
      ]
    },
    {
      "cell_type": "markdown",
      "id": "962d8faf",
      "metadata": {
        "papermill": {
          "duration": 0.009312,
          "end_time": "2024-01-02T07:05:28.785169",
          "exception": false,
          "start_time": "2024-01-02T07:05:28.775857",
          "status": "completed"
        },
        "tags": [],
        "id": "962d8faf"
      },
      "source": [
        "# Exploratory Data Analysis"
      ]
    },
    {
      "cell_type": "markdown",
      "id": "71a9763a",
      "metadata": {
        "papermill": {
          "duration": 0.009222,
          "end_time": "2024-01-02T07:05:28.804257",
          "exception": false,
          "start_time": "2024-01-02T07:05:28.795035",
          "status": "completed"
        },
        "tags": [],
        "id": "71a9763a"
      },
      "source": [
        "**Frequency of words (wordcloud)**"
      ]
    },
    {
      "cell_type": "code",
      "execution_count": null,
      "id": "2e0ee191",
      "metadata": {
        "execution": {
          "iopub.execute_input": "2024-01-02T07:05:28.825108Z",
          "iopub.status.busy": "2024-01-02T07:05:28.824671Z",
          "iopub.status.idle": "2024-01-02T07:05:41.446391Z",
          "shell.execute_reply": "2024-01-02T07:05:41.445652Z"
        },
        "papermill": {
          "duration": 12.637729,
          "end_time": "2024-01-02T07:05:41.451582",
          "exception": false,
          "start_time": "2024-01-02T07:05:28.813853",
          "status": "completed"
        },
        "tags": [],
        "id": "2e0ee191",
        "outputId": "dd283ecb-2cdc-4bcb-d833-782d03d6dd91",
        "colab": {
          "base_uri": "https://localhost:8080/",
          "height": 702
        }
      },
      "outputs": [
        {
          "output_type": "stream",
          "name": "stdout",
          "text": [
            "Warning: No text found for sentiment 'Positive'. Skipping wordcloud generation.\n",
            "Warning: No text found for sentiment 'Neutral'. Skipping wordcloud generation.\n",
            "Warning: No text found for sentiment 'Negative'. Skipping wordcloud generation.\n",
            "Warning: No text found for sentiment 'Irrelevant'. Skipping wordcloud generation.\n"
          ]
        },
        {
          "output_type": "display_data",
          "data": {
            "text/plain": [
              "<Figure size 1600x900 with 4 Axes>"
            ],
            "image/png": "[encoded data removed]"
          },
          "metadata": {}
        }
      ],
      "source": [
        "sentiment_list=[\"Positive\",\"Neutral\",\"Negative\",\"Irrelevant\"]\n",
        "colormap_list=[\"YlGn_r\",\"Blues_r\",\"Reds_r\",\"copper_r\"]\n",
        "ax_list = [[0,0],[0,1],[1,0],[1,1]]\n",
        "stopwords_set = set(STOPWORDS)\n",
        "\n",
        "fig, ax = plt.subplots(nrows=2, ncols=2, figsize=(16,9))\n",
        "for sentiment,(row,col),colormap in zip(sentiment_list,ax_list,colormap_list):\n",
        "\n",
        "    #Create wordcloud for each sentiment\n",
        "    text = \" \".join(content for content in removed_df[removed_df[\"sentiment\"]==sentiment][\"tweet content\"])\n",
        "\n",
        "    # Check if text is empty and skip if it is\n",
        "    if not text:\n",
        "        print(f\"Warning: No text found for sentiment '{sentiment}'. Skipping wordcloud generation.\")\n",
        "        continue  # Skip to the next sentiment\n",
        "\n",
        "    wordcloud = WordCloud(colormap=colormap, stopwords=stopwords_set, width=1600, height=900).generate(text)\n",
        "\n",
        "    #Plot wordcloud\n",
        "    ax[row,col].imshow(wordcloud)\n",
        "    ax[row,col].set_title(sentiment+\" wordcloud\", fontsize=18)\n",
        "    ax[row,col].axis('off')\n",
        "\n",
        "fig.tight_layout()"
      ]
    },
    {
      "cell_type": "markdown",
      "id": "c6f08c7e",
      "metadata": {
        "papermill": {
          "duration": 0.020739,
          "end_time": "2024-01-02T07:05:41.493092",
          "exception": false,
          "start_time": "2024-01-02T07:05:41.472353",
          "status": "completed"
        },
        "tags": [],
        "id": "c6f08c7e"
      },
      "source": [
        "**Frequency of entity**"
      ]
    },
    {
      "cell_type": "code",
      "execution_count": null,
      "id": "1ebab23f",
      "metadata": {
        "execution": {
          "iopub.execute_input": "2024-01-02T07:05:41.536705Z",
          "iopub.status.busy": "2024-01-02T07:05:41.536363Z",
          "iopub.status.idle": "2024-01-02T07:05:42.545575Z",
          "shell.execute_reply": "2024-01-02T07:05:42.544334Z"
        },
        "papermill": {
          "duration": 1.034563,
          "end_time": "2024-01-02T07:05:42.548486",
          "exception": false,
          "start_time": "2024-01-02T07:05:41.513923",
          "status": "completed"
        },
        "tags": [],
        "id": "1ebab23f",
        "outputId": "df0269fd-9eb5-4702-bd46-6fc3c7ba0403",
        "colab": {
          "base_uri": "https://localhost:8080/",
          "height": 406
        }
      },
      "outputs": [
        {
          "output_type": "execute_result",
          "data": {
            "text/plain": [
              "Text(0.5, 1.0, 'Frequency of entity')"
            ]
          },
          "metadata": {},
          "execution_count": 44
        },
        {
          "output_type": "display_data",
          "data": {
            "text/plain": [
              "<Figure size 2000x600 with 1 Axes>"
            ],
            "image/png": "[encoded data removed]"
          },
          "metadata": {}
        }
      ],
      "source": [
        "entity_frequency = removed_df.groupby([\"sentiment\",\"entity\"]).size().reset_index()\n",
        "entity_frequency.rename(columns={0: 'frequency'}, inplace=True)\n",
        "\n",
        "plt.figure(figsize=(20,6))\n",
        "plt.xticks(rotation=90)\n",
        "sns.barplot(data=entity_frequency,x=\"entity\",y=\"frequency\",hue=\"sentiment\").set_title(\"Frequency of entity\", fontsize=20)"
      ]
    },
    {
      "cell_type": "markdown",
      "id": "613ca8ad",
      "metadata": {
        "papermill": {
          "duration": 0.025974,
          "end_time": "2024-01-02T07:05:42.596452",
          "exception": false,
          "start_time": "2024-01-02T07:05:42.570478",
          "status": "completed"
        },
        "tags": [],
        "id": "613ca8ad"
      },
      "source": [
        "# Data Splitting"
      ]
    },
    {
      "cell_type": "code",
      "execution_count": null,
      "id": "615ed554",
      "metadata": {
        "execution": {
          "iopub.execute_input": "2024-01-02T07:05:42.643618Z",
          "iopub.status.busy": "2024-01-02T07:05:42.642644Z",
          "iopub.status.idle": "2024-01-02T07:05:42.664537Z",
          "shell.execute_reply": "2024-01-02T07:05:42.663130Z"
        },
        "papermill": {
          "duration": 0.048615,
          "end_time": "2024-01-02T07:05:42.666931",
          "exception": false,
          "start_time": "2024-01-02T07:05:42.618316",
          "status": "completed"
        },
        "tags": [],
        "id": "615ed554"
      },
      "outputs": [],
      "source": [
        "#Split the training and validation dataset into x_train, y_train, x_test and y_test\n",
        "x_train = df[\"entity\"] + \" \" + df[\"tweet content\"]\n",
        "y_train = df[\"sentiment\"]\n",
        "x_test = df_val[\"entity\"] + \" \" + df_val[\"tweet content\"]\n",
        "y_test = df_val[\"sentiment\"]"
      ]
    },
    {
      "cell_type": "code",
      "execution_count": null,
      "id": "bebca56f",
      "metadata": {
        "execution": {
          "iopub.execute_input": "2024-01-02T07:05:42.712333Z",
          "iopub.status.busy": "2024-01-02T07:05:42.711954Z",
          "iopub.status.idle": "2024-01-02T07:05:42.719580Z",
          "shell.execute_reply": "2024-01-02T07:05:42.718213Z"
        },
        "papermill": {
          "duration": 0.033802,
          "end_time": "2024-01-02T07:05:42.722257",
          "exception": false,
          "start_time": "2024-01-02T07:05:42.688455",
          "status": "completed"
        },
        "tags": [],
        "id": "bebca56f",
        "outputId": "b199e0a5-f066-459e-8b88-94f222eeff07",
        "colab": {
          "base_uri": "https://localhost:8080/",
          "height": 84
        }
      },
      "outputs": [
        {
          "output_type": "execute_result",
          "data": {
            "text/plain": [
              "Series([], dtype: object)"
            ],
            "text/html": [
              "<div>\n",
              "<style scoped>\n",
              "    .dataframe tbody tr th:only-of-type {\n",
              "        vertical-align: middle;\n",
              "    }\n",
              "\n",
              "    .dataframe tbody tr th {\n",
              "        vertical-align: top;\n",
              "    }\n",
              "\n",
              "    .dataframe thead th {\n",
              "        text-align: right;\n",
              "    }\n",
              "</style>\n",
              "<table border=\"1\" class=\"dataframe\">\n",
              "  <thead>\n",
              "    <tr style=\"text-align: right;\">\n",
              "      <th></th>\n",
              "      <th>0</th>\n",
              "    </tr>\n",
              "  </thead>\n",
              "  <tbody>\n",
              "  </tbody>\n",
              "</table>\n",
              "</div><br><label><b>dtype:</b> object</label>"
            ]
          },
          "metadata": {},
          "execution_count": 46
        }
      ],
      "source": [
        "x_train.head()"
      ]
    },
    {
      "cell_type": "markdown",
      "id": "b99a62fd",
      "metadata": {
        "papermill": {
          "duration": 0.021623,
          "end_time": "2024-01-02T07:05:42.765959",
          "exception": false,
          "start_time": "2024-01-02T07:05:42.744336",
          "status": "completed"
        },
        "tags": [],
        "id": "b99a62fd"
      },
      "source": [
        "# Text Preprocessing"
      ]
    },
    {
      "cell_type": "code",
      "execution_count": null,
      "id": "dc5f36b2",
      "metadata": {
        "execution": {
          "iopub.execute_input": "2024-01-02T07:05:42.811005Z",
          "iopub.status.busy": "2024-01-02T07:05:42.810629Z",
          "iopub.status.idle": "2024-01-02T07:05:42.816123Z",
          "shell.execute_reply": "2024-01-02T07:05:42.815353Z"
        },
        "papermill": {
          "duration": 0.029935,
          "end_time": "2024-01-02T07:05:42.817774",
          "exception": false,
          "start_time": "2024-01-02T07:05:42.787839",
          "status": "completed"
        },
        "tags": [],
        "id": "dc5f36b2"
      },
      "outputs": [],
      "source": [
        "# function turns pos_tag into wordnet_pos\n",
        "def get_wordnet_pos(pos_tag):\n",
        "    if pos_tag.startswith('J'):\n",
        "        return wordnet.ADJ\n",
        "    elif pos_tag.startswith('V'):\n",
        "        return wordnet.VERB\n",
        "    elif pos_tag.startswith('N'):\n",
        "        return wordnet.NOUN\n",
        "    elif pos_tag.startswith('R'):\n",
        "        return wordnet.ADV\n",
        "    else:\n",
        "        return None"
      ]
    },
    {
      "cell_type": "code",
      "execution_count": null,
      "id": "6dd1ffa3",
      "metadata": {
        "execution": {
          "iopub.execute_input": "2024-01-02T07:05:42.861908Z",
          "iopub.status.busy": "2024-01-02T07:05:42.861576Z",
          "iopub.status.idle": "2024-01-02T07:05:42.868219Z",
          "shell.execute_reply": "2024-01-02T07:05:42.867144Z"
        },
        "papermill": {
          "duration": 0.031555,
          "end_time": "2024-01-02T07:05:42.870458",
          "exception": false,
          "start_time": "2024-01-02T07:05:42.838903",
          "status": "completed"
        },
        "tags": [],
        "id": "6dd1ffa3"
      },
      "outputs": [],
      "source": [
        "def text_preprocessing(text):\n",
        "\n",
        "    #tokenize\n",
        "    text_tokenize = word_tokenize(text)\n",
        "\n",
        "    #split text and entity\n",
        "    entity = text_tokenize[0]\n",
        "    text_content = text_tokenize[1:]\n",
        "\n",
        "    #pos tagging\n",
        "    text_pos = pos_tag(text_content)\n",
        "\n",
        "    #remove punctuation and stopwords\n",
        "    remove_words = set(list(string.punctuation) + stopwords.words('english'))\n",
        "    text_remove = [(word,pos) for (word,pos) in text_pos if word not in remove_words]\n",
        "\n",
        "    #lemmaization\n",
        "    word_lem = WordNetLemmatizer()\n",
        "    text_lem = [(word_lem.lemmatize(word,pos=get_wordnet_pos(pos)),pos) if get_wordnet_pos(pos) != None\n",
        "                 else (word_lem.lemmatize(word),pos) for (word,pos) in text_remove]\n",
        "\n",
        "    #combine text and entity\n",
        "    text_lem.append((entity,))\n",
        "\n",
        "    return text_lem"
      ]
    },
    {
      "cell_type": "code",
      "execution_count": null,
      "id": "1c9f9563",
      "metadata": {
        "execution": {
          "iopub.execute_input": "2024-01-02T07:05:42.915671Z",
          "iopub.status.busy": "2024-01-02T07:05:42.915083Z",
          "iopub.status.idle": "2024-01-02T07:05:44.792185Z",
          "shell.execute_reply": "2024-01-02T07:05:44.791063Z"
        },
        "papermill": {
          "duration": 1.902699,
          "end_time": "2024-01-02T07:05:44.795080",
          "exception": false,
          "start_time": "2024-01-02T07:05:42.892381",
          "status": "completed"
        },
        "tags": [],
        "id": "1c9f9563",
        "outputId": "4f42871b-630d-4886-a7ad-98b1fb84b4fa",
        "colab": {
          "base_uri": "https://localhost:8080/",
          "height": 842
        }
      },
      "outputs": [
        {
          "output_type": "stream",
          "name": "stdout",
          "text": [
            "Original sentence:  Overwatch Overwatch is a wonderful game, even after so many years.\n"
          ]
        },
        {
          "output_type": "stream",
          "name": "stderr",
          "text": [
            "[nltk_data] Downloading package punkt to /root/nltk_data...\n",
            "[nltk_data]   Package punkt is already up-to-date!\n",
            "[nltk_data] Downloading package averaged_perceptron_tagger to\n",
            "[nltk_data]     /root/nltk_data...\n",
            "[nltk_data]   Package averaged_perceptron_tagger is already up-to-\n",
            "[nltk_data]       date!\n",
            "[nltk_data] Downloading package punkt_tab to /root/nltk_data...\n",
            "[nltk_data]   Package punkt_tab is already up-to-date!\n"
          ]
        },
        {
          "output_type": "error",
          "ename": "LookupError",
          "evalue": "\n**********************************************************************\n  Resource \u001b[93maveraged_perceptron_tagger_eng\u001b[0m not found.\n  Please use the NLTK Downloader to obtain the resource:\n\n  \u001b[31m>>> import nltk\n  >>> nltk.download('averaged_perceptron_tagger_eng')\n  \u001b[0m\n  For more information see: https://www.nltk.org/data.html\n\n  Attempted to load \u001b[93mtaggers/averaged_perceptron_tagger_eng/\u001b[0m\n\n  Searched in:\n    - '/root/nltk_data'\n    - '/usr/nltk_data'\n    - '/usr/share/nltk_data'\n    - '/usr/lib/nltk_data'\n    - '/usr/share/nltk_data'\n    - '/usr/local/share/nltk_data'\n    - '/usr/lib/nltk_data'\n    - '/usr/local/lib/nltk_data'\n**********************************************************************\n",
          "traceback": [
            "\u001b[0;31m---------------------------------------------------------------------------\u001b[0m",
            "\u001b[0;31mLookupError\u001b[0m                               Traceback (most recent call last)",
            "\u001b[0;32m<ipython-input-50-7dd11d74a4c5>\u001b[0m in \u001b[0;36m<cell line: 9>\u001b[0;34m()\u001b[0m\n\u001b[1;32m      7\u001b[0m \u001b[0mexample_text\u001b[0m \u001b[0;34m=\u001b[0m \u001b[0;34m\"Overwatch Overwatch is a wonderful game, even after so many years.\"\u001b[0m\u001b[0;34m\u001b[0m\u001b[0;34m\u001b[0m\u001b[0m\n\u001b[1;32m      8\u001b[0m \u001b[0mprint\u001b[0m\u001b[0;34m(\u001b[0m\u001b[0;34m\"Original sentence: \"\u001b[0m\u001b[0;34m,\u001b[0m \u001b[0mexample_text\u001b[0m\u001b[0;34m)\u001b[0m\u001b[0;34m\u001b[0m\u001b[0;34m\u001b[0m\u001b[0m\n\u001b[0;32m----> 9\u001b[0;31m \u001b[0mprint\u001b[0m\u001b[0;34m(\u001b[0m\u001b[0;34m\"After text_preprocessing: \"\u001b[0m\u001b[0;34m,\u001b[0m \u001b[0mtext_preprocessing\u001b[0m\u001b[0;34m(\u001b[0m\u001b[0mexample_text\u001b[0m\u001b[0;34m)\u001b[0m\u001b[0;34m)\u001b[0m\u001b[0;34m\u001b[0m\u001b[0;34m\u001b[0m\u001b[0m\n\u001b[0m",
            "\u001b[0;32m<ipython-input-48-a59f46f1b119>\u001b[0m in \u001b[0;36mtext_preprocessing\u001b[0;34m(text)\u001b[0m\n\u001b[1;32m      9\u001b[0m \u001b[0;34m\u001b[0m\u001b[0m\n\u001b[1;32m     10\u001b[0m     \u001b[0;31m#pos tagging\u001b[0m\u001b[0;34m\u001b[0m\u001b[0;34m\u001b[0m\u001b[0m\n\u001b[0;32m---> 11\u001b[0;31m     \u001b[0mtext_pos\u001b[0m \u001b[0;34m=\u001b[0m \u001b[0mpos_tag\u001b[0m\u001b[0;34m(\u001b[0m\u001b[0mtext_content\u001b[0m\u001b[0;34m)\u001b[0m\u001b[0;34m\u001b[0m\u001b[0;34m\u001b[0m\u001b[0m\n\u001b[0m\u001b[1;32m     12\u001b[0m \u001b[0;34m\u001b[0m\u001b[0m\n\u001b[1;32m     13\u001b[0m     \u001b[0;31m#remove punctuation and stopwords\u001b[0m\u001b[0;34m\u001b[0m\u001b[0;34m\u001b[0m\u001b[0m\n",
            "\u001b[0;32m/usr/local/lib/python3.10/dist-packages/nltk/tag/__init__.py\u001b[0m in \u001b[0;36mpos_tag\u001b[0;34m(tokens, tagset, lang)\u001b[0m\n\u001b[1;32m    166\u001b[0m     \u001b[0;34m:\u001b[0m\u001b[0mrtype\u001b[0m\u001b[0;34m:\u001b[0m \u001b[0mlist\u001b[0m\u001b[0;34m(\u001b[0m\u001b[0mtuple\u001b[0m\u001b[0;34m(\u001b[0m\u001b[0mstr\u001b[0m\u001b[0;34m,\u001b[0m \u001b[0mstr\u001b[0m\u001b[0;34m)\u001b[0m\u001b[0;34m)\u001b[0m\u001b[0;34m\u001b[0m\u001b[0;34m\u001b[0m\u001b[0m\n\u001b[1;32m    167\u001b[0m     \"\"\"\n\u001b[0;32m--> 168\u001b[0;31m     \u001b[0mtagger\u001b[0m \u001b[0;34m=\u001b[0m \u001b[0m_get_tagger\u001b[0m\u001b[0;34m(\u001b[0m\u001b[0mlang\u001b[0m\u001b[0;34m)\u001b[0m\u001b[0;34m\u001b[0m\u001b[0;34m\u001b[0m\u001b[0m\n\u001b[0m\u001b[1;32m    169\u001b[0m     \u001b[0;32mreturn\u001b[0m \u001b[0m_pos_tag\u001b[0m\u001b[0;34m(\u001b[0m\u001b[0mtokens\u001b[0m\u001b[0;34m,\u001b[0m \u001b[0mtagset\u001b[0m\u001b[0;34m,\u001b[0m \u001b[0mtagger\u001b[0m\u001b[0;34m,\u001b[0m \u001b[0mlang\u001b[0m\u001b[0;34m)\u001b[0m\u001b[0;34m\u001b[0m\u001b[0;34m\u001b[0m\u001b[0m\n\u001b[1;32m    170\u001b[0m \u001b[0;34m\u001b[0m\u001b[0m\n",
            "\u001b[0;32m/usr/local/lib/python3.10/dist-packages/nltk/tag/__init__.py\u001b[0m in \u001b[0;36m_get_tagger\u001b[0;34m(lang)\u001b[0m\n\u001b[1;32m    108\u001b[0m         \u001b[0mtagger\u001b[0m \u001b[0;34m=\u001b[0m \u001b[0mPerceptronTagger\u001b[0m\u001b[0;34m(\u001b[0m\u001b[0mlang\u001b[0m\u001b[0;34m=\u001b[0m\u001b[0mlang\u001b[0m\u001b[0;34m)\u001b[0m\u001b[0;34m\u001b[0m\u001b[0;34m\u001b[0m\u001b[0m\n\u001b[1;32m    109\u001b[0m     \u001b[0;32melse\u001b[0m\u001b[0;34m:\u001b[0m\u001b[0;34m\u001b[0m\u001b[0;34m\u001b[0m\u001b[0m\n\u001b[0;32m--> 110\u001b[0;31m         \u001b[0mtagger\u001b[0m \u001b[0;34m=\u001b[0m \u001b[0mPerceptronTagger\u001b[0m\u001b[0;34m(\u001b[0m\u001b[0;34m)\u001b[0m\u001b[0;34m\u001b[0m\u001b[0;34m\u001b[0m\u001b[0m\n\u001b[0m\u001b[1;32m    111\u001b[0m     \u001b[0;32mreturn\u001b[0m \u001b[0mtagger\u001b[0m\u001b[0;34m\u001b[0m\u001b[0;34m\u001b[0m\u001b[0m\n\u001b[1;32m    112\u001b[0m \u001b[0;34m\u001b[0m\u001b[0m\n",
            "\u001b[0;32m/usr/local/lib/python3.10/dist-packages/nltk/tag/perceptron.py\u001b[0m in \u001b[0;36m__init__\u001b[0;34m(self, load, lang)\u001b[0m\n\u001b[1;32m    181\u001b[0m         \u001b[0mself\u001b[0m\u001b[0;34m.\u001b[0m\u001b[0mclasses\u001b[0m \u001b[0;34m=\u001b[0m \u001b[0mset\u001b[0m\u001b[0;34m(\u001b[0m\u001b[0;34m)\u001b[0m\u001b[0;34m\u001b[0m\u001b[0;34m\u001b[0m\u001b[0m\n\u001b[1;32m    182\u001b[0m         \u001b[0;32mif\u001b[0m \u001b[0mload\u001b[0m\u001b[0;34m:\u001b[0m\u001b[0;34m\u001b[0m\u001b[0;34m\u001b[0m\u001b[0m\n\u001b[0;32m--> 183\u001b[0;31m             \u001b[0mself\u001b[0m\u001b[0;34m.\u001b[0m\u001b[0mload_from_json\u001b[0m\u001b[0;34m(\u001b[0m\u001b[0mlang\u001b[0m\u001b[0;34m)\u001b[0m\u001b[0;34m\u001b[0m\u001b[0;34m\u001b[0m\u001b[0m\n\u001b[0m\u001b[1;32m    184\u001b[0m \u001b[0;34m\u001b[0m\u001b[0m\n\u001b[1;32m    185\u001b[0m     \u001b[0;32mdef\u001b[0m \u001b[0mtag\u001b[0m\u001b[0;34m(\u001b[0m\u001b[0mself\u001b[0m\u001b[0;34m,\u001b[0m \u001b[0mtokens\u001b[0m\u001b[0;34m,\u001b[0m \u001b[0mreturn_conf\u001b[0m\u001b[0;34m=\u001b[0m\u001b[0;32mFalse\u001b[0m\u001b[0;34m,\u001b[0m \u001b[0muse_tagdict\u001b[0m\u001b[0;34m=\u001b[0m\u001b[0;32mTrue\u001b[0m\u001b[0;34m)\u001b[0m\u001b[0;34m:\u001b[0m\u001b[0;34m\u001b[0m\u001b[0;34m\u001b[0m\u001b[0m\n",
            "\u001b[0;32m/usr/local/lib/python3.10/dist-packages/nltk/tag/perceptron.py\u001b[0m in \u001b[0;36mload_from_json\u001b[0;34m(self, lang)\u001b[0m\n\u001b[1;32m    271\u001b[0m     \u001b[0;32mdef\u001b[0m \u001b[0mload_from_json\u001b[0m\u001b[0;34m(\u001b[0m\u001b[0mself\u001b[0m\u001b[0;34m,\u001b[0m \u001b[0mlang\u001b[0m\u001b[0;34m=\u001b[0m\u001b[0;34m\"eng\"\u001b[0m\u001b[0;34m)\u001b[0m\u001b[0;34m:\u001b[0m\u001b[0;34m\u001b[0m\u001b[0;34m\u001b[0m\u001b[0m\n\u001b[1;32m    272\u001b[0m         \u001b[0;31m# Automatically find path to the tagger if location is not specified.\u001b[0m\u001b[0;34m\u001b[0m\u001b[0;34m\u001b[0m\u001b[0m\n\u001b[0;32m--> 273\u001b[0;31m         \u001b[0mloc\u001b[0m \u001b[0;34m=\u001b[0m \u001b[0mfind\u001b[0m\u001b[0;34m(\u001b[0m\u001b[0;34mf\"taggers/averaged_perceptron_tagger_{lang}/\"\u001b[0m\u001b[0;34m)\u001b[0m\u001b[0;34m\u001b[0m\u001b[0;34m\u001b[0m\u001b[0m\n\u001b[0m\u001b[1;32m    274\u001b[0m         \u001b[0;32mwith\u001b[0m \u001b[0mopen\u001b[0m\u001b[0;34m(\u001b[0m\u001b[0mloc\u001b[0m \u001b[0;34m+\u001b[0m \u001b[0mTAGGER_JSONS\u001b[0m\u001b[0;34m[\u001b[0m\u001b[0mlang\u001b[0m\u001b[0;34m]\u001b[0m\u001b[0;34m[\u001b[0m\u001b[0;34m\"weights\"\u001b[0m\u001b[0;34m]\u001b[0m\u001b[0;34m)\u001b[0m \u001b[0;32mas\u001b[0m \u001b[0mfin\u001b[0m\u001b[0;34m:\u001b[0m\u001b[0;34m\u001b[0m\u001b[0;34m\u001b[0m\u001b[0m\n\u001b[1;32m    275\u001b[0m             \u001b[0mself\u001b[0m\u001b[0;34m.\u001b[0m\u001b[0mmodel\u001b[0m\u001b[0;34m.\u001b[0m\u001b[0mweights\u001b[0m \u001b[0;34m=\u001b[0m \u001b[0mjson\u001b[0m\u001b[0;34m.\u001b[0m\u001b[0mload\u001b[0m\u001b[0;34m(\u001b[0m\u001b[0mfin\u001b[0m\u001b[0;34m)\u001b[0m\u001b[0;34m\u001b[0m\u001b[0;34m\u001b[0m\u001b[0m\n",
            "\u001b[0;32m/usr/local/lib/python3.10/dist-packages/nltk/data.py\u001b[0m in \u001b[0;36mfind\u001b[0;34m(resource_name, paths)\u001b[0m\n\u001b[1;32m    577\u001b[0m     \u001b[0msep\u001b[0m \u001b[0;34m=\u001b[0m \u001b[0;34m\"*\"\u001b[0m \u001b[0;34m*\u001b[0m \u001b[0;36m70\u001b[0m\u001b[0;34m\u001b[0m\u001b[0;34m\u001b[0m\u001b[0m\n\u001b[1;32m    578\u001b[0m     \u001b[0mresource_not_found\u001b[0m \u001b[0;34m=\u001b[0m \u001b[0;34mf\"\\n{sep}\\n{msg}\\n{sep}\\n\"\u001b[0m\u001b[0;34m\u001b[0m\u001b[0;34m\u001b[0m\u001b[0m\n\u001b[0;32m--> 579\u001b[0;31m     \u001b[0;32mraise\u001b[0m \u001b[0mLookupError\u001b[0m\u001b[0;34m(\u001b[0m\u001b[0mresource_not_found\u001b[0m\u001b[0;34m)\u001b[0m\u001b[0;34m\u001b[0m\u001b[0;34m\u001b[0m\u001b[0m\n\u001b[0m\u001b[1;32m    580\u001b[0m \u001b[0;34m\u001b[0m\u001b[0m\n\u001b[1;32m    581\u001b[0m \u001b[0;34m\u001b[0m\u001b[0m\n",
            "\u001b[0;31mLookupError\u001b[0m: \n**********************************************************************\n  Resource \u001b[93maveraged_perceptron_tagger_eng\u001b[0m not found.\n  Please use the NLTK Downloader to obtain the resource:\n\n  \u001b[31m>>> import nltk\n  >>> nltk.download('averaged_perceptron_tagger_eng')\n  \u001b[0m\n  For more information see: https://www.nltk.org/data.html\n\n  Attempted to load \u001b[93mtaggers/averaged_perceptron_tagger_eng/\u001b[0m\n\n  Searched in:\n    - '/root/nltk_data'\n    - '/usr/nltk_data'\n    - '/usr/share/nltk_data'\n    - '/usr/lib/nltk_data'\n    - '/usr/share/nltk_data'\n    - '/usr/local/share/nltk_data'\n    - '/usr/lib/nltk_data'\n    - '/usr/local/lib/nltk_data'\n**********************************************************************\n"
          ]
        }
      ],
      "source": [
        "#test text_preprocessing\n",
        "import nltk\n",
        "nltk.download('punkt')\n",
        "nltk.download('averaged_perceptron_tagger') # Download the averaged_perceptron_tagger\n",
        "nltk.download('punkt_tab') # Download the missing 'punkt_tab' data package\n",
        "\n",
        "example_text = \"Overwatch Overwatch is a wonderful game, even after so many years.\"\n",
        "print(\"Original sentence: \", example_text)\n",
        "print(\"After text_preprocessing: \", text_preprocessing(example_text))"
      ]
    },
    {
      "cell_type": "code",
      "execution_count": null,
      "id": "f0896553",
      "metadata": {
        "execution": {
          "iopub.execute_input": "2024-01-02T07:05:44.842561Z",
          "iopub.status.busy": "2024-01-02T07:05:44.841408Z",
          "iopub.status.idle": "2024-01-02T07:07:45.945850Z",
          "shell.execute_reply": "2024-01-02T07:07:45.944649Z"
        },
        "papermill": {
          "duration": 121.130637,
          "end_time": "2024-01-02T07:07:45.948115",
          "exception": false,
          "start_time": "2024-01-02T07:05:44.817478",
          "status": "completed"
        },
        "tags": [],
        "id": "f0896553",
        "colab": {
          "base_uri": "https://localhost:8080/",
          "height": 339
        },
        "outputId": "40bfbc06-1c8c-42b9-ffd6-77301a6e3267"
      },
      "outputs": [
        {
          "output_type": "error",
          "ename": "ValueError",
          "evalue": "empty vocabulary; perhaps the documents only contain stop words",
          "traceback": [
            "\u001b[0;31m---------------------------------------------------------------------------\u001b[0m",
            "\u001b[0;31mValueError\u001b[0m                                Traceback (most recent call last)",
            "\u001b[0;32m<ipython-input-51-16eaee2676ea>\u001b[0m in \u001b[0;36m<cell line: 8>\u001b[0;34m()\u001b[0m\n\u001b[1;32m      6\u001b[0m \u001b[0;34m\u001b[0m\u001b[0m\n\u001b[1;32m      7\u001b[0m \u001b[0;31m#Apply pipeline to x_train and x_test\u001b[0m\u001b[0;34m\u001b[0m\u001b[0;34m\u001b[0m\u001b[0m\n\u001b[0;32m----> 8\u001b[0;31m \u001b[0mx_train_processed\u001b[0m \u001b[0;34m=\u001b[0m \u001b[0mpipeline\u001b[0m\u001b[0;34m.\u001b[0m\u001b[0mfit_transform\u001b[0m\u001b[0;34m(\u001b[0m\u001b[0mx_train\u001b[0m\u001b[0;34m)\u001b[0m\u001b[0;34m\u001b[0m\u001b[0;34m\u001b[0m\u001b[0m\n\u001b[0m\u001b[1;32m      9\u001b[0m \u001b[0mx_test_processed\u001b[0m \u001b[0;34m=\u001b[0m \u001b[0mpipeline\u001b[0m\u001b[0;34m.\u001b[0m\u001b[0mtransform\u001b[0m\u001b[0;34m(\u001b[0m\u001b[0mx_test\u001b[0m\u001b[0;34m)\u001b[0m\u001b[0;34m\u001b[0m\u001b[0;34m\u001b[0m\u001b[0m\n",
            "\u001b[0;32m/usr/local/lib/python3.10/dist-packages/sklearn/base.py\u001b[0m in \u001b[0;36mwrapper\u001b[0;34m(estimator, *args, **kwargs)\u001b[0m\n\u001b[1;32m   1471\u001b[0m                 )\n\u001b[1;32m   1472\u001b[0m             ):\n\u001b[0;32m-> 1473\u001b[0;31m                 \u001b[0;32mreturn\u001b[0m \u001b[0mfit_method\u001b[0m\u001b[0;34m(\u001b[0m\u001b[0mestimator\u001b[0m\u001b[0;34m,\u001b[0m \u001b[0;34m*\u001b[0m\u001b[0margs\u001b[0m\u001b[0;34m,\u001b[0m \u001b[0;34m**\u001b[0m\u001b[0mkwargs\u001b[0m\u001b[0;34m)\u001b[0m\u001b[0;34m\u001b[0m\u001b[0;34m\u001b[0m\u001b[0m\n\u001b[0m\u001b[1;32m   1474\u001b[0m \u001b[0;34m\u001b[0m\u001b[0m\n\u001b[1;32m   1475\u001b[0m         \u001b[0;32mreturn\u001b[0m \u001b[0mwrapper\u001b[0m\u001b[0;34m\u001b[0m\u001b[0;34m\u001b[0m\u001b[0m\n",
            "\u001b[0;32m/usr/local/lib/python3.10/dist-packages/sklearn/pipeline.py\u001b[0m in \u001b[0;36mfit_transform\u001b[0;34m(self, X, y, **params)\u001b[0m\n\u001b[1;32m    531\u001b[0m         \"\"\"\n\u001b[1;32m    532\u001b[0m         \u001b[0mrouted_params\u001b[0m \u001b[0;34m=\u001b[0m \u001b[0mself\u001b[0m\u001b[0;34m.\u001b[0m\u001b[0m_check_method_params\u001b[0m\u001b[0;34m(\u001b[0m\u001b[0mmethod\u001b[0m\u001b[0;34m=\u001b[0m\u001b[0;34m\"fit_transform\"\u001b[0m\u001b[0;34m,\u001b[0m \u001b[0mprops\u001b[0m\u001b[0;34m=\u001b[0m\u001b[0mparams\u001b[0m\u001b[0;34m)\u001b[0m\u001b[0;34m\u001b[0m\u001b[0;34m\u001b[0m\u001b[0m\n\u001b[0;32m--> 533\u001b[0;31m         \u001b[0mXt\u001b[0m \u001b[0;34m=\u001b[0m \u001b[0mself\u001b[0m\u001b[0;34m.\u001b[0m\u001b[0m_fit\u001b[0m\u001b[0;34m(\u001b[0m\u001b[0mX\u001b[0m\u001b[0;34m,\u001b[0m \u001b[0my\u001b[0m\u001b[0;34m,\u001b[0m \u001b[0mrouted_params\u001b[0m\u001b[0;34m)\u001b[0m\u001b[0;34m\u001b[0m\u001b[0;34m\u001b[0m\u001b[0m\n\u001b[0m\u001b[1;32m    534\u001b[0m \u001b[0;34m\u001b[0m\u001b[0m\n\u001b[1;32m    535\u001b[0m         \u001b[0mlast_step\u001b[0m \u001b[0;34m=\u001b[0m \u001b[0mself\u001b[0m\u001b[0;34m.\u001b[0m\u001b[0m_final_estimator\u001b[0m\u001b[0;34m\u001b[0m\u001b[0;34m\u001b[0m\u001b[0m\n",
            "\u001b[0;32m/usr/local/lib/python3.10/dist-packages/sklearn/pipeline.py\u001b[0m in \u001b[0;36m_fit\u001b[0;34m(self, X, y, routed_params)\u001b[0m\n\u001b[1;32m    404\u001b[0m                 \u001b[0mcloned_transformer\u001b[0m \u001b[0;34m=\u001b[0m \u001b[0mclone\u001b[0m\u001b[0;34m(\u001b[0m\u001b[0mtransformer\u001b[0m\u001b[0;34m)\u001b[0m\u001b[0;34m\u001b[0m\u001b[0;34m\u001b[0m\u001b[0m\n\u001b[1;32m    405\u001b[0m             \u001b[0;31m# Fit or load from cache the current transformer\u001b[0m\u001b[0;34m\u001b[0m\u001b[0;34m\u001b[0m\u001b[0m\n\u001b[0;32m--> 406\u001b[0;31m             X, fitted_transformer = fit_transform_one_cached(\n\u001b[0m\u001b[1;32m    407\u001b[0m                 \u001b[0mcloned_transformer\u001b[0m\u001b[0;34m,\u001b[0m\u001b[0;34m\u001b[0m\u001b[0;34m\u001b[0m\u001b[0m\n\u001b[1;32m    408\u001b[0m                 \u001b[0mX\u001b[0m\u001b[0;34m,\u001b[0m\u001b[0;34m\u001b[0m\u001b[0;34m\u001b[0m\u001b[0m\n",
            "\u001b[0;32m/usr/local/lib/python3.10/dist-packages/joblib/memory.py\u001b[0m in \u001b[0;36m__call__\u001b[0;34m(self, *args, **kwargs)\u001b[0m\n\u001b[1;32m    310\u001b[0m \u001b[0;34m\u001b[0m\u001b[0m\n\u001b[1;32m    311\u001b[0m     \u001b[0;32mdef\u001b[0m \u001b[0m__call__\u001b[0m\u001b[0;34m(\u001b[0m\u001b[0mself\u001b[0m\u001b[0;34m,\u001b[0m \u001b[0;34m*\u001b[0m\u001b[0margs\u001b[0m\u001b[0;34m,\u001b[0m \u001b[0;34m**\u001b[0m\u001b[0mkwargs\u001b[0m\u001b[0;34m)\u001b[0m\u001b[0;34m:\u001b[0m\u001b[0;34m\u001b[0m\u001b[0;34m\u001b[0m\u001b[0m\n\u001b[0;32m--> 312\u001b[0;31m         \u001b[0;32mreturn\u001b[0m \u001b[0mself\u001b[0m\u001b[0;34m.\u001b[0m\u001b[0mfunc\u001b[0m\u001b[0;34m(\u001b[0m\u001b[0;34m*\u001b[0m\u001b[0margs\u001b[0m\u001b[0;34m,\u001b[0m \u001b[0;34m**\u001b[0m\u001b[0mkwargs\u001b[0m\u001b[0;34m)\u001b[0m\u001b[0;34m\u001b[0m\u001b[0;34m\u001b[0m\u001b[0m\n\u001b[0m\u001b[1;32m    313\u001b[0m \u001b[0;34m\u001b[0m\u001b[0m\n\u001b[1;32m    314\u001b[0m     \u001b[0;32mdef\u001b[0m \u001b[0mcall_and_shelve\u001b[0m\u001b[0;34m(\u001b[0m\u001b[0mself\u001b[0m\u001b[0;34m,\u001b[0m \u001b[0;34m*\u001b[0m\u001b[0margs\u001b[0m\u001b[0;34m,\u001b[0m \u001b[0;34m**\u001b[0m\u001b[0mkwargs\u001b[0m\u001b[0;34m)\u001b[0m\u001b[0;34m:\u001b[0m\u001b[0;34m\u001b[0m\u001b[0;34m\u001b[0m\u001b[0m\n",
            "\u001b[0;32m/usr/local/lib/python3.10/dist-packages/sklearn/pipeline.py\u001b[0m in \u001b[0;36m_fit_transform_one\u001b[0;34m(transformer, X, y, weight, message_clsname, message, params)\u001b[0m\n\u001b[1;32m   1308\u001b[0m     \u001b[0;32mwith\u001b[0m \u001b[0m_print_elapsed_time\u001b[0m\u001b[0;34m(\u001b[0m\u001b[0mmessage_clsname\u001b[0m\u001b[0;34m,\u001b[0m \u001b[0mmessage\u001b[0m\u001b[0;34m)\u001b[0m\u001b[0;34m:\u001b[0m\u001b[0;34m\u001b[0m\u001b[0;34m\u001b[0m\u001b[0m\n\u001b[1;32m   1309\u001b[0m         \u001b[0;32mif\u001b[0m \u001b[0mhasattr\u001b[0m\u001b[0;34m(\u001b[0m\u001b[0mtransformer\u001b[0m\u001b[0;34m,\u001b[0m \u001b[0;34m\"fit_transform\"\u001b[0m\u001b[0;34m)\u001b[0m\u001b[0;34m:\u001b[0m\u001b[0;34m\u001b[0m\u001b[0;34m\u001b[0m\u001b[0m\n\u001b[0;32m-> 1310\u001b[0;31m             \u001b[0mres\u001b[0m \u001b[0;34m=\u001b[0m \u001b[0mtransformer\u001b[0m\u001b[0;34m.\u001b[0m\u001b[0mfit_transform\u001b[0m\u001b[0;34m(\u001b[0m\u001b[0mX\u001b[0m\u001b[0;34m,\u001b[0m \u001b[0my\u001b[0m\u001b[0;34m,\u001b[0m \u001b[0;34m**\u001b[0m\u001b[0mparams\u001b[0m\u001b[0;34m.\u001b[0m\u001b[0mget\u001b[0m\u001b[0;34m(\u001b[0m\u001b[0;34m\"fit_transform\"\u001b[0m\u001b[0;34m,\u001b[0m \u001b[0;34m{\u001b[0m\u001b[0;34m}\u001b[0m\u001b[0;34m)\u001b[0m\u001b[0;34m)\u001b[0m\u001b[0;34m\u001b[0m\u001b[0;34m\u001b[0m\u001b[0m\n\u001b[0m\u001b[1;32m   1311\u001b[0m         \u001b[0;32melse\u001b[0m\u001b[0;34m:\u001b[0m\u001b[0;34m\u001b[0m\u001b[0;34m\u001b[0m\u001b[0m\n\u001b[1;32m   1312\u001b[0m             res = transformer.fit(X, y, **params.get(\"fit\", {})).transform(\n",
            "\u001b[0;32m/usr/local/lib/python3.10/dist-packages/sklearn/base.py\u001b[0m in \u001b[0;36mwrapper\u001b[0;34m(estimator, *args, **kwargs)\u001b[0m\n\u001b[1;32m   1471\u001b[0m                 )\n\u001b[1;32m   1472\u001b[0m             ):\n\u001b[0;32m-> 1473\u001b[0;31m                 \u001b[0;32mreturn\u001b[0m \u001b[0mfit_method\u001b[0m\u001b[0;34m(\u001b[0m\u001b[0mestimator\u001b[0m\u001b[0;34m,\u001b[0m \u001b[0;34m*\u001b[0m\u001b[0margs\u001b[0m\u001b[0;34m,\u001b[0m \u001b[0;34m**\u001b[0m\u001b[0mkwargs\u001b[0m\u001b[0;34m)\u001b[0m\u001b[0;34m\u001b[0m\u001b[0;34m\u001b[0m\u001b[0m\n\u001b[0m\u001b[1;32m   1474\u001b[0m \u001b[0;34m\u001b[0m\u001b[0m\n\u001b[1;32m   1475\u001b[0m         \u001b[0;32mreturn\u001b[0m \u001b[0mwrapper\u001b[0m\u001b[0;34m\u001b[0m\u001b[0;34m\u001b[0m\u001b[0m\n",
            "\u001b[0;32m/usr/local/lib/python3.10/dist-packages/sklearn/feature_extraction/text.py\u001b[0m in \u001b[0;36mfit_transform\u001b[0;34m(self, raw_documents, y)\u001b[0m\n\u001b[1;32m   1370\u001b[0m                     \u001b[0;32mbreak\u001b[0m\u001b[0;34m\u001b[0m\u001b[0;34m\u001b[0m\u001b[0m\n\u001b[1;32m   1371\u001b[0m \u001b[0;34m\u001b[0m\u001b[0m\n\u001b[0;32m-> 1372\u001b[0;31m         \u001b[0mvocabulary\u001b[0m\u001b[0;34m,\u001b[0m \u001b[0mX\u001b[0m \u001b[0;34m=\u001b[0m \u001b[0mself\u001b[0m\u001b[0;34m.\u001b[0m\u001b[0m_count_vocab\u001b[0m\u001b[0;34m(\u001b[0m\u001b[0mraw_documents\u001b[0m\u001b[0;34m,\u001b[0m \u001b[0mself\u001b[0m\u001b[0;34m.\u001b[0m\u001b[0mfixed_vocabulary_\u001b[0m\u001b[0;34m)\u001b[0m\u001b[0;34m\u001b[0m\u001b[0;34m\u001b[0m\u001b[0m\n\u001b[0m\u001b[1;32m   1373\u001b[0m \u001b[0;34m\u001b[0m\u001b[0m\n\u001b[1;32m   1374\u001b[0m         \u001b[0;32mif\u001b[0m \u001b[0mself\u001b[0m\u001b[0;34m.\u001b[0m\u001b[0mbinary\u001b[0m\u001b[0;34m:\u001b[0m\u001b[0;34m\u001b[0m\u001b[0;34m\u001b[0m\u001b[0m\n",
            "\u001b[0;32m/usr/local/lib/python3.10/dist-packages/sklearn/feature_extraction/text.py\u001b[0m in \u001b[0;36m_count_vocab\u001b[0;34m(self, raw_documents, fixed_vocab)\u001b[0m\n\u001b[1;32m   1276\u001b[0m             \u001b[0mvocabulary\u001b[0m \u001b[0;34m=\u001b[0m \u001b[0mdict\u001b[0m\u001b[0;34m(\u001b[0m\u001b[0mvocabulary\u001b[0m\u001b[0;34m)\u001b[0m\u001b[0;34m\u001b[0m\u001b[0;34m\u001b[0m\u001b[0m\n\u001b[1;32m   1277\u001b[0m             \u001b[0;32mif\u001b[0m \u001b[0;32mnot\u001b[0m \u001b[0mvocabulary\u001b[0m\u001b[0;34m:\u001b[0m\u001b[0;34m\u001b[0m\u001b[0;34m\u001b[0m\u001b[0m\n\u001b[0;32m-> 1278\u001b[0;31m                 raise ValueError(\n\u001b[0m\u001b[1;32m   1279\u001b[0m                     \u001b[0;34m\"empty vocabulary; perhaps the documents only contain stop words\"\u001b[0m\u001b[0;34m\u001b[0m\u001b[0;34m\u001b[0m\u001b[0m\n\u001b[1;32m   1280\u001b[0m                 )\n",
            "\u001b[0;31mValueError\u001b[0m: empty vocabulary; perhaps the documents only contain stop words"
          ]
        }
      ],
      "source": [
        "#Combine text_preprocessing, CountVectorizer and TfidfTransformer into pipeline\n",
        "pipeline = Pipeline([\n",
        "    ('bow', CountVectorizer(analyzer=text_preprocessing)),\n",
        "    ('tfidf', TfidfTransformer())\n",
        "])\n",
        "\n",
        "#Apply pipeline to x_train and x_test\n",
        "x_train_processed = pipeline.fit_transform(x_train)\n",
        "x_test_processed = pipeline.transform(x_test)"
      ]
    },
    {
      "cell_type": "markdown",
      "id": "438dcfb3",
      "metadata": {
        "papermill": {
          "duration": 0.021656,
          "end_time": "2024-01-02T07:07:45.992894",
          "exception": false,
          "start_time": "2024-01-02T07:07:45.971238",
          "status": "completed"
        },
        "tags": [],
        "id": "438dcfb3"
      },
      "source": [
        "# Models"
      ]
    },
    {
      "cell_type": "code",
      "execution_count": null,
      "id": "a6550d3f",
      "metadata": {
        "execution": {
          "iopub.execute_input": "2024-01-02T07:07:46.040513Z",
          "iopub.status.busy": "2024-01-02T07:07:46.038292Z",
          "iopub.status.idle": "2024-01-02T07:07:46.045611Z",
          "shell.execute_reply": "2024-01-02T07:07:46.044175Z"
        },
        "papermill": {
          "duration": 0.033265,
          "end_time": "2024-01-02T07:07:46.048094",
          "exception": false,
          "start_time": "2024-01-02T07:07:46.014829",
          "status": "completed"
        },
        "tags": [],
        "id": "a6550d3f"
      },
      "outputs": [],
      "source": [
        "classifier_used = [\n",
        "    LogisticRegression(),\n",
        "    KNeighborsClassifier(),\n",
        "    DecisionTreeClassifier(),\n",
        "    RandomForestClassifier(),\n",
        "]"
      ]
    },
    {
      "cell_type": "code",
      "execution_count": null,
      "id": "24dbab29",
      "metadata": {
        "execution": {
          "iopub.execute_input": "2024-01-02T07:07:46.095850Z",
          "iopub.status.busy": "2024-01-02T07:07:46.095301Z",
          "iopub.status.idle": "2024-01-02T07:22:38.534996Z",
          "shell.execute_reply": "2024-01-02T07:22:38.533480Z"
        },
        "papermill": {
          "duration": 892.467417,
          "end_time": "2024-01-02T07:22:38.537528",
          "exception": false,
          "start_time": "2024-01-02T07:07:46.070111",
          "status": "completed"
        },
        "tags": [],
        "id": "24dbab29"
      },
      "outputs": [],
      "source": [
        "classifier_accuracy=[]\n",
        "\n",
        "for classifier in classifier_used:\n",
        "\n",
        "    fit = classifier.fit(x_train_processed, y_train)\n",
        "    predict = fit.predict(x_test_processed)\n",
        "    trainset_predict = fit.predict(x_train_processed)\n",
        "\n",
        "    accuracy = accuracy_score(predict,y_test)\n",
        "    trainset_accuracy = accuracy_score(trainset_predict,y_train)\n",
        "\n",
        "    classifier_accuracy.append([classifier.__class__.__name__,accuracy,trainset_accuracy])"
      ]
    },
    {
      "cell_type": "code",
      "execution_count": null,
      "id": "22540e3c",
      "metadata": {
        "execution": {
          "iopub.execute_input": "2024-01-02T07:22:38.584918Z",
          "iopub.status.busy": "2024-01-02T07:22:38.584191Z",
          "iopub.status.idle": "2024-01-02T07:22:38.597654Z",
          "shell.execute_reply": "2024-01-02T07:22:38.596287Z"
        },
        "papermill": {
          "duration": 0.03999,
          "end_time": "2024-01-02T07:22:38.600047",
          "exception": false,
          "start_time": "2024-01-02T07:22:38.560057",
          "status": "completed"
        },
        "tags": [],
        "id": "22540e3c"
      },
      "outputs": [],
      "source": [
        "classifier_result = pd.DataFrame(classifier_accuracy,columns=[\"classifier\",\"accuracy\",\"accuracy on trainset\"]).sort_values(by='accuracy',ascending=False)\n",
        "classifier_result"
      ]
    },
    {
      "cell_type": "markdown",
      "id": "8f643d88",
      "metadata": {
        "papermill": {
          "duration": 0.023127,
          "end_time": "2024-01-02T07:22:38.646796",
          "exception": false,
          "start_time": "2024-01-02T07:22:38.623669",
          "status": "completed"
        },
        "tags": [],
        "id": "8f643d88"
      },
      "source": [
        "**The KNeighborsClassifier obtains the highest accuracy of 0.992.**"
      ]
    }
  ],
  "metadata": {
    "kaggle": {
      "accelerator": "none",
      "dataSources": [
        {
          "datasetId": 1520310,
          "sourceId": 2510329,
          "sourceType": "datasetVersion"
        }
      ],
      "dockerImageVersionId": 30513,
      "isGpuEnabled": false,
      "isInternetEnabled": true,
      "language": "python",
      "sourceType": "notebook"
    },
    "kernelspec": {
      "display_name": "Python 3",
      "language": "python",
      "name": "python3"
    },
    "language_info": {
      "codemirror_mode": {
        "name": "ipython",
        "version": 3
      },
      "file_extension": ".py",
      "mimetype": "text/x-python",
      "name": "python",
      "nbconvert_exporter": "python",
      "pygments_lexer": "ipython3",
      "version": "3.10.10"
    },
    "papermill": {
      "default_parameters": {},
      "duration": 1048.119594,
      "end_time": "2024-01-02T07:22:40.098302",
      "environment_variables": {},
      "exception": null,
      "input_path": "__notebook__.ipynb",
      "output_path": "__notebook__.ipynb",
      "parameters": {},
      "start_time": "2024-01-02T07:05:11.978708",
      "version": "2.4.0"
    },
    "colab": {
      "provenance": []
    }
  },
  "nbformat": 4,
  "nbformat_minor": 5
}